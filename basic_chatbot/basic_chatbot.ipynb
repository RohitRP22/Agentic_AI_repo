{
 "cells": [
  {
   "cell_type": "markdown",
   "id": "66499ffb",
   "metadata": {},
   "source": [
    "### Basic Chatbot with langgraph(Graph API)"
   ]
  },
  {
   "cell_type": "markdown",
   "id": "435511f1",
   "metadata": {},
   "source": [
    "#### Components of langgraph\n",
    "- Edge\n",
    "- Node\n",
    "- state (this part will store the variables that will be utilised in some of the edges and nodes)\n",
    "\n",
    "Yt videos --> Blog\n",
    "\n",
    "- workflow\n",
    "1. Yt vides --> Transcript\n",
    "2. Transcript --> title\n",
    "3. Title,Transcript --> Content\n"
   ]
  },
  {
   "cell_type": "markdown",
   "id": "befaf363",
   "metadata": {},
   "source": [
    "workflow graph:\n",
    "\n",
    "            start(input as YT url)\n",
    "              |\n",
    "              |  - Edge (genreating transcript from Youtube URl using langchains YTloader)\n",
    "         \n",
    "         Transcript generator (node)\n",
    "           \n",
    "              |\n",
    "              |  - transcript as variable traversing through edge\n",
    "        \n",
    "        Title Generator (Generates title based on Transcript Provided)\n",
    "           \n",
    "              |\n",
    "              | - Transript and title traversing through this edge\n",
    "        \n",
    "        Content Generator (Generates content based on Transcript and Title Provided)\n",
    "\n",
    "above diagram is StateGraph"
   ]
  },
  {
   "cell_type": "code",
   "execution_count": 1,
   "id": "f1e28392",
   "metadata": {},
   "outputs": [],
   "source": [
    "from typing import Annotated\n",
    "from typing_extensions import TypedDict\n",
    "from langgraph.graph import StateGraph,START,END\n",
    "from langgraph.graph.message import add_messages"
   ]
  },
  {
   "cell_type": "code",
   "execution_count": 2,
   "id": "43414287",
   "metadata": {},
   "outputs": [],
   "source": [
    "class state(TypedDict):\n",
    "    #messages have the format of a list of strings. the 'add_messages' function will\n",
    "    #automatically add the messages to the state. in the annotation,defines how the \n",
    "    # messages are stored in the state.\n",
    "    messages: Annotated[list[str], add_messages]\n",
    "    # in this case, it appends the messages to the list, rather than replacing it.\n",
    "    # the 'messages' key is a list of strings, which will be used to store the messages.\n",
    "graph_builder = StateGraph(state)"
   ]
  },
  {
   "cell_type": "code",
   "execution_count": 3,
   "id": "bf8fe2a7",
   "metadata": {},
   "outputs": [
    {
     "data": {
      "text/plain": [
       "True"
      ]
     },
     "execution_count": 3,
     "metadata": {},
     "output_type": "execute_result"
    }
   ],
   "source": [
    "import os\n",
    "from dotenv import load_dotenv\n",
    "load_dotenv()"
   ]
  },
  {
   "cell_type": "code",
   "execution_count": 4,
   "id": "e1813ddd",
   "metadata": {},
   "outputs": [],
   "source": [
    "from langchain_groq import ChatGroq\n",
    "from langchain.chat_models import init_chat_model"
   ]
  },
  {
   "cell_type": "code",
   "execution_count": 5,
   "id": "6a2f272b",
   "metadata": {},
   "outputs": [],
   "source": [
    "llm = ChatGroq(model = \"llama3-8b-8192\" )"
   ]
  },
  {
   "cell_type": "code",
   "execution_count": 6,
   "id": "26f3d46d",
   "metadata": {},
   "outputs": [],
   "source": [
    "# Node function to handle the START state\n",
    "def chatbot(state: state) -> str:\n",
    "    # this function will be called when the graph reaches the END state\n",
    "    # it will return the messages stored in the state as a single string\n",
    "    return {\"messages\":[llm.invoke(state[\"messages\"])]}"
   ]
  },
  {
   "cell_type": "code",
   "execution_count": 7,
   "id": "88be5233",
   "metadata": {},
   "outputs": [
    {
     "data": {
      "text/plain": [
       "<langgraph.graph.state.StateGraph at 0x213963073d0>"
      ]
     },
     "execution_count": 7,
     "metadata": {},
     "output_type": "execute_result"
    }
   ],
   "source": [
    "graph_builder"
   ]
  },
  {
   "cell_type": "code",
   "execution_count": 8,
   "id": "c30dbfc5",
   "metadata": {},
   "outputs": [],
   "source": [
    "# Add the START node to the graph\n",
    "graph_builder.add_node(\n",
    "    \"llmchatbot\",\n",
    "    chatbot)\n",
    "# add the edge from START to the llmchatbot node\n",
    "# and from the llmchatbot node to the END state\n",
    "graph_builder.add_edge(START, \"llmchatbot\")\n",
    "graph_builder.add_edge(\"llmchatbot\", END)\n",
    "# Create the graph or compile the graph\n",
    "graph = graph_builder.compile()"
   ]
  },
  {
   "cell_type": "code",
   "execution_count": 9,
   "id": "6985cf05",
   "metadata": {},
   "outputs": [
    {
     "data": {
      "image/png": "[encoded data removed]",
      "text/plain": [
       "<IPython.core.display.Image object>"
      ]
     },
     "metadata": {},
     "output_type": "display_data"
    }
   ],
   "source": [
    "#Visualize the graph\n",
    "from IPython.display import Image, display\n",
    "\n",
    "try:\n",
    "    display(Image(graph.get_graph().draw_mermaid_png()))\n",
    "except Exception:\n",
    "    pass"
   ]
  },
  {
   "cell_type": "code",
   "execution_count": null,
   "id": "ffd390f2",
   "metadata": {},
   "outputs": [],
   "source": [
    "response = graph.invoke({\"messages\": [\"Hello, how are you?\"]})"
   ]
  },
  {
   "cell_type": "code",
   "execution_count": null,
   "id": "e7aa8501",
   "metadata": {},
   "outputs": [
    {
     "data": {
      "text/plain": [
       "AIMessage(content=\"I'm just a language model, I don't have feelings or emotions like humans do, but I'm functioning properly and ready to help you with any questions or tasks you may have! It's great to chat with you. How can I assist you today?\", additional_kwargs={}, response_metadata={'token_usage': {'completion_tokens': 53, 'prompt_tokens': 16, 'total_tokens': 69, 'completion_time': 0.128244032, 'prompt_time': 0.006386802, 'queue_time': 0.27501336899999995, 'total_time': 0.134630834}, 'model_name': 'llama3-8b-8192', 'system_fingerprint': 'fp_6d1c2b0784', 'finish_reason': 'stop', 'logprobs': None}, id='run--cdc6fda4-5e2a-4f70-acae-b4faf76ae988-0', usage_metadata={'input_tokens': 16, 'output_tokens': 53, 'total_tokens': 69})"
      ]
     },
     "execution_count": 11,
     "metadata": {},
     "output_type": "execute_result"
    }
   ],
   "source": [
    "response['messages'][-1]  # Get the last message from the response\n",
    "# This will return the response from the LLM based on the input message"
   ]
  },
  {
   "cell_type": "code",
   "execution_count": null,
   "id": "d9cba12a",
   "metadata": {},
   "outputs": [
    {
     "data": {
      "text/plain": [
       "\"I'm just a language model, I don't have feelings or emotions like humans do, but I'm functioning properly and ready to help you with any questions or tasks you may have! It's great to chat with you. How can I assist you today?\""
      ]
     },
     "execution_count": 12,
     "metadata": {},
     "output_type": "execute_result"
    }
   ],
   "source": [
    "response['messages'][-1].content  # Get the content of the last message\n",
    "# This will return the text content of the response from the LLM"
   ]
  },
  {
   "cell_type": "code",
   "execution_count": null,
   "id": "b4ddb1cb",
   "metadata": {},
   "outputs": [
    {
     "data": {
      "text/plain": [
       "[HumanMessage(content='Hello, how are you?', additional_kwargs={}, response_metadata={}, id='1cc90f12-678f-4355-9358-1fcf96cd6d4d'),\n",
       " AIMessage(content=\"I'm just a language model, I don't have feelings or emotions like humans do, but I'm functioning properly and ready to help you with any questions or tasks you may have! It's great to chat with you. How can I assist you today?\", additional_kwargs={}, response_metadata={'token_usage': {'completion_tokens': 53, 'prompt_tokens': 16, 'total_tokens': 69, 'completion_time': 0.128244032, 'prompt_time': 0.006386802, 'queue_time': 0.27501336899999995, 'total_time': 0.134630834}, 'model_name': 'llama3-8b-8192', 'system_fingerprint': 'fp_6d1c2b0784', 'finish_reason': 'stop', 'logprobs': None}, id='run--cdc6fda4-5e2a-4f70-acae-b4faf76ae988-0', usage_metadata={'input_tokens': 16, 'output_tokens': 53, 'total_tokens': 69})]"
      ]
     },
     "execution_count": 13,
     "metadata": {},
     "output_type": "execute_result"
    }
   ],
   "source": [
    "response['messages']  # Get the role of the last message"
   ]
  },
  {
   "cell_type": "code",
   "execution_count": null,
   "id": "0dabf942",
   "metadata": {},
   "outputs": [
    {
     "name": "stdout",
     "output_type": "stream",
     "text": [
      "I'm just a language model, I don't have emotions or feelings like humans do, but I'm functioning properly and ready to assist you with any questions or tasks you may have! How can I help you today?\n"
     ]
    }
   ],
   "source": [
    "for event in graph.stream({\"messages\":'Hi, How are you?'}):\n",
    "    for value in event.values():\n",
    "        print(value['messages'][-1].content)\n",
    "# This will print the content of the last message in each event as the stream progresses"
   ]
  },
  {
   "cell_type": "markdown",
   "id": "9fd5b173",
   "metadata": {},
   "source": [
    "### Chatbot with Tool"
   ]
  },
  {
   "cell_type": "markdown",
   "id": "72123b14",
   "metadata": {},
   "source": [
    "___Start___\n",
    "     |\n",
    "     |\n",
    "tool_calling_llm (Node) (LLM with binding tools)\n",
    "     |\n",
    "     |\n",
    "|            |\n",
    "|            |\n",
    "|        Tools (tavily API (internet search))\n",
    "|               (Custom tools)\n",
    "|            |\n",
    "  ___END___"
   ]
  },
  {
   "cell_type": "code",
   "execution_count": null,
   "id": "d065e509",
   "metadata": {},
   "outputs": [],
   "source": [
    "from langchain_tavily import TavilySearch"
   ]
  },
  {
   "cell_type": "code",
   "execution_count": null,
   "id": "cbede3d4",
   "metadata": {},
   "outputs": [],
   "source": [
    "tool = TavilySearch(max_results=2)\n",
    "# tool.invoke(\"What is the capital of France?\")"
   ]
  },
  {
   "cell_type": "code",
   "execution_count": null,
   "id": "96c36382",
   "metadata": {},
   "outputs": [],
   "source": [
    "#custom function\n",
    "def MultiplyXbyY(x: int,y:int) -> int:\n",
    "    \"\"\"_summary_\n",
    "\n",
    "    Args:\n",
    "        x (int): _description_\n",
    "\n",
    "    Returns:\n",
    "        int: _description_\n",
    "    \"\"\"\n",
    "    return x * y"
   ]
  },
  {
   "cell_type": "code",
   "execution_count": null,
   "id": "43da0d83",
   "metadata": {},
   "outputs": [],
   "source": [
    "tools = [tool, MultiplyXbyY] \n",
    "# List of tools to be used in the graph"
   ]
  },
  {
   "cell_type": "code",
   "execution_count": null,
   "id": "ce426ca6",
   "metadata": {},
   "outputs": [],
   "source": [
    "llm_with_tools = llm.bind_tools(tools)\n",
    "# Bind the tools to the LLM\n",
    "# This will allow the LLM to use the tools in its responses"
   ]
  },
  {
   "cell_type": "code",
   "execution_count": null,
   "id": "56a01cbc",
   "metadata": {},
   "outputs": [],
   "source": [
    "## stategraph with tools\n",
    "from langgraph.graph import StateGraph, START, END\n",
    "from langgraph.prebuilt import ToolNode, tools_condition"
   ]
  },
  {
   "cell_type": "code",
   "execution_count": null,
   "id": "7e5f66b9",
   "metadata": {},
   "outputs": [
    {
     "data": {
      "text/plain": [
       "<langgraph.graph.state.StateGraph at 0x1eb5a43a100>"
      ]
     },
     "execution_count": 21,
     "metadata": {},
     "output_type": "execute_result"
    }
   ],
   "source": [
    "##Node definition\n",
    "def tool_calling_llm(state: state) -> str:\n",
    "    \"\"\"_summary_\n",
    "\n",
    "    Args:\n",
    "        state (state): _description_\n",
    "\n",
    "    Returns:\n",
    "        str: _description_\n",
    "    \"\"\"\n",
    "    return {\"messages\": [llm_with_tools.invoke(state[\"messages\"])]}\n",
    "\n",
    "\n",
    "builder = StateGraph(state)\n",
    "builder.add_node(\n",
    "    \"tool_calling_llm\",\n",
    "    tool_calling_llm \n",
    ")\n",
    "builder.add_node(\n",
    "    \"tools\",\n",
    "    ToolNode(tools)\n",
    ")\n",
    "\n",
    "#add the edges to the graph\n",
    "builder.add_edge(START, \"tool_calling_llm\")\n",
    "builder.add_conditional_edges(\"tool_calling_llm\", tools_condition)\n",
    "# if the tool calling LLM returns a tool call, it will go to the tools node\n",
    "# if the LLM does not return a tool call, it will go to the END state\n",
    "builder.add_edge(\"tools\", END)"
   ]
  },
  {
   "cell_type": "code",
   "execution_count": null,
   "id": "9f9b820e",
   "metadata": {},
   "outputs": [],
   "source": [
    "#compile the graph\n",
    "graph = builder.compile()"
   ]
  },
  {
   "cell_type": "code",
   "execution_count": null,
   "id": "e07495c4",
   "metadata": {},
   "outputs": [
    {
     "data": {
      "image/png": "[encoded data removed]",
      "text/plain": [
       "<IPython.core.display.Image object>"
      ]
     },
     "metadata": {},
     "output_type": "display_data"
    }
   ],
   "source": [
    "display(Image(graph.get_graph().draw_mermaid_png()))"
   ]
  },
  {
   "cell_type": "code",
   "execution_count": null,
   "id": "ab61bc9c",
   "metadata": {},
   "outputs": [],
   "source": [
    "response = graph.invoke({\"messages\": [\"What is the recent AI News?\"]})"
   ]
  },
  {
   "cell_type": "code",
   "execution_count": null,
   "id": "a76c5216",
   "metadata": {},
   "outputs": [
    {
     "data": {
      "text/plain": [
       "{'messages': [HumanMessage(content='What is the recent AI News?', additional_kwargs={}, response_metadata={}, id='99457600-95b2-415c-8024-ec54c2aad4ca'),\n",
       "  AIMessage(content='', additional_kwargs={'tool_calls': [{'id': 'drj9mvs7f', 'function': {'arguments': '{\"query\":\"recent AI news\",\"search_depth\":\"advanced\",\"time_range\":\"day\",\"topic\":\"news\"}', 'name': 'tavily_search'}, 'type': 'function'}]}, response_metadata={'token_usage': {'completion_tokens': 93, 'prompt_tokens': 2188, 'total_tokens': 2281, 'completion_time': 0.216131895, 'prompt_time': 0.245577076, 'queue_time': 0.27319631099999997, 'total_time': 0.461708971}, 'model_name': 'llama3-8b-8192', 'system_fingerprint': 'fp_6d1c2b0784', 'finish_reason': 'tool_calls', 'logprobs': None}, id='run--e0130dad-569f-4fc5-9dee-e3d94c656e2f-0', tool_calls=[{'name': 'tavily_search', 'args': {'query': 'recent AI news', 'search_depth': 'advanced', 'time_range': 'day', 'topic': 'news'}, 'id': 'drj9mvs7f', 'type': 'tool_call'}], usage_metadata={'input_tokens': 2188, 'output_tokens': 93, 'total_tokens': 2281}),\n",
       "  ToolMessage(content='{\"query\": \"recent AI news\", \"follow_up_questions\": null, \"answer\": null, \"images\": [], \"results\": [{\"url\": \"https://yourstory.com/2025/06/workforce-needs-technical-skills\", \"title\": \"The AI Revolution: Why tomorrow\\'s workforce needs more than technical skills - YourStory.com\", \"score\": 0.7092009, \"published_date\": \"Mon, 30 Jun 2025 11:22:21 GMT\", \"content\": \"June 26, 2025, 11 min Read Image 26\\\\\")ys-in-depth ### Adda Education gives skilling a big push as it looks beyond test-prep June 26, 2025, 11 min Read Image 27events ### Don’t fear AI; it will soon be part of everything you do: Dell Technologies’ Vivekanandh NR on building an AI-first mindset June 25, 2025, 5 min Read Image 28herstoryys-report ### Women engineering students show growing interest in AI/ML careers: Report June 24, 2025, 3 min Read Image 29\", \"raw_content\": null}, {\"url\": \"https://www.csoonline.com/article/4014238/cybercriminals-take-malicious-ai-to-the-next-level.html\", \"title\": \"Cybercriminals take malicious AI to the next level - csoonline.com\", \"score\": 0.7043437, \"published_date\": \"Mon, 30 Jun 2025 08:32:14 GMT\", \"content\": \"Opinion ### The rise of the compliance super soldier: A new human-AI paradigm in GRC By Nikhil Sarnot Jun 27, 2025 9 mins Compliance Generative AI IT Governance FrameworksNews Analysis ### Pressure is mounting to cut jobs in favor of AI. Here’s why you shouldn’t. By John Leyden Jun 26, 2025 5 mins IT Jobs Security Operations Center Technology IndustryNews ### The top red teamer in the US is an AI bot By Taryn Plumb Jun 25, 2025 5 mins Artificial Intelligence Generative AI Hacking [...] Flashpoint analysts tracked these developments in real-time across more than 100,000 illicit sources, monitoring everything from dark web marketplaces and Telegram groups to\\\\n\\\\nunderground LLM communities.\\\\n\\\\nBetween Jan. 1 and May 30, 2025, the researchers logged more than 2.5 million AI-related posts covering various nefarious tactics, including jailbreak prompts, deepfake service ads, phishing toolkits, and bespoke language models built for fraud and other forms of cybercrime.\", \"raw_content\": null}], \"response_time\": 1.19}', name='tavily_search', id='29862104-f47a-42db-b32d-1b5a27a8f41f', tool_call_id='drj9mvs7f')]}"
      ]
     },
     "execution_count": 25,
     "metadata": {},
     "output_type": "execute_result"
    }
   ],
   "source": [
    "response"
   ]
  },
  {
   "cell_type": "code",
   "execution_count": null,
   "id": "d58d7272",
   "metadata": {},
   "outputs": [
    {
     "data": {
      "text/plain": [
       "'{\"query\": \"recent AI news\", \"follow_up_questions\": null, \"answer\": null, \"images\": [], \"results\": [{\"url\": \"https://yourstory.com/2025/06/workforce-needs-technical-skills\", \"title\": \"The AI Revolution: Why tomorrow\\'s workforce needs more than technical skills - YourStory.com\", \"score\": 0.7092009, \"published_date\": \"Mon, 30 Jun 2025 11:22:21 GMT\", \"content\": \"June 26, 2025, 11 min Read Image 26\\\\\")ys-in-depth ### Adda Education gives skilling a big push as it looks beyond test-prep June 26, 2025, 11 min Read Image 27events ### Don’t fear AI; it will soon be part of everything you do: Dell Technologies’ Vivekanandh NR on building an AI-first mindset June 25, 2025, 5 min Read Image 28herstoryys-report ### Women engineering students show growing interest in AI/ML careers: Report June 24, 2025, 3 min Read Image 29\", \"raw_content\": null}, {\"url\": \"https://www.csoonline.com/article/4014238/cybercriminals-take-malicious-ai-to-the-next-level.html\", \"title\": \"Cybercriminals take malicious AI to the next level - csoonline.com\", \"score\": 0.7043437, \"published_date\": \"Mon, 30 Jun 2025 08:32:14 GMT\", \"content\": \"Opinion ### The rise of the compliance super soldier: A new human-AI paradigm in GRC By Nikhil Sarnot Jun 27, 2025 9 mins Compliance Generative AI IT Governance FrameworksNews Analysis ### Pressure is mounting to cut jobs in favor of AI. Here’s why you shouldn’t. By John Leyden Jun 26, 2025 5 mins IT Jobs Security Operations Center Technology IndustryNews ### The top red teamer in the US is an AI bot By Taryn Plumb Jun 25, 2025 5 mins Artificial Intelligence Generative AI Hacking [...] Flashpoint analysts tracked these developments in real-time across more than 100,000 illicit sources, monitoring everything from dark web marketplaces and Telegram groups to\\\\n\\\\nunderground LLM communities.\\\\n\\\\nBetween Jan. 1 and May 30, 2025, the researchers logged more than 2.5 million AI-related posts covering various nefarious tactics, including jailbreak prompts, deepfake service ads, phishing toolkits, and bespoke language models built for fraud and other forms of cybercrime.\", \"raw_content\": null}], \"response_time\": 1.19}'"
      ]
     },
     "execution_count": 26,
     "metadata": {},
     "output_type": "execute_result"
    }
   ],
   "source": [
    "response['messages'][-1].content\n",
    "# Get the content of the last message in the response"
   ]
  },
  {
   "cell_type": "code",
   "execution_count": null,
   "id": "1368720e",
   "metadata": {},
   "outputs": [
    {
     "name": "stdout",
     "output_type": "stream",
     "text": [
      "================================\u001b[1m Human Message \u001b[0m=================================\n",
      "\n",
      "What is the recent AI News?\n",
      "==================================\u001b[1m Ai Message \u001b[0m==================================\n",
      "Tool Calls:\n",
      "  tavily_search (drj9mvs7f)\n",
      " Call ID: drj9mvs7f\n",
      "  Args:\n",
      "    query: recent AI news\n",
      "    search_depth: advanced\n",
      "    time_range: day\n",
      "    topic: news\n",
      "=================================\u001b[1m Tool Message \u001b[0m=================================\n",
      "Name: tavily_search\n",
      "\n",
      "{\"query\": \"recent AI news\", \"follow_up_questions\": null, \"answer\": null, \"images\": [], \"results\": [{\"url\": \"https://yourstory.com/2025/06/workforce-needs-technical-skills\", \"title\": \"The AI Revolution: Why tomorrow's workforce needs more than technical skills - YourStory.com\", \"score\": 0.7092009, \"published_date\": \"Mon, 30 Jun 2025 11:22:21 GMT\", \"content\": \"June 26, 2025, 11 min Read Image 26\\\")ys-in-depth ### Adda Education gives skilling a big push as it looks beyond test-prep June 26, 2025, 11 min Read Image 27events ### Don’t fear AI; it will soon be part of everything you do: Dell Technologies’ Vivekanandh NR on building an AI-first mindset June 25, 2025, 5 min Read Image 28herstoryys-report ### Women engineering students show growing interest in AI/ML careers: Report June 24, 2025, 3 min Read Image 29\", \"raw_content\": null}, {\"url\": \"https://www.csoonline.com/article/4014238/cybercriminals-take-malicious-ai-to-the-next-level.html\", \"title\": \"Cybercriminals take malicious AI to the next level - csoonline.com\", \"score\": 0.7043437, \"published_date\": \"Mon, 30 Jun 2025 08:32:14 GMT\", \"content\": \"Opinion ### The rise of the compliance super soldier: A new human-AI paradigm in GRC By Nikhil Sarnot Jun 27, 2025 9 mins Compliance Generative AI IT Governance FrameworksNews Analysis ### Pressure is mounting to cut jobs in favor of AI. Here’s why you shouldn’t. By John Leyden Jun 26, 2025 5 mins IT Jobs Security Operations Center Technology IndustryNews ### The top red teamer in the US is an AI bot By Taryn Plumb Jun 25, 2025 5 mins Artificial Intelligence Generative AI Hacking [...] Flashpoint analysts tracked these developments in real-time across more than 100,000 illicit sources, monitoring everything from dark web marketplaces and Telegram groups to\\n\\nunderground LLM communities.\\n\\nBetween Jan. 1 and May 30, 2025, the researchers logged more than 2.5 million AI-related posts covering various nefarious tactics, including jailbreak prompts, deepfake service ads, phishing toolkits, and bespoke language models built for fraud and other forms of cybercrime.\", \"raw_content\": null}], \"response_time\": 1.19}\n"
     ]
    }
   ],
   "source": [
    "for message in response['messages']:\n",
    "    message.pretty_print()"
   ]
  },
  {
   "cell_type": "code",
   "execution_count": null,
   "id": "e2b000cc",
   "metadata": {},
   "outputs": [],
   "source": [
    "response = graph.invoke({\"messages\": [\"What is the 10 multiply by 2?\"]})"
   ]
  },
  {
   "cell_type": "code",
   "execution_count": null,
   "id": "2b4e3cfd",
   "metadata": {},
   "outputs": [
    {
     "name": "stdout",
     "output_type": "stream",
     "text": [
      "================================\u001b[1m Human Message \u001b[0m=================================\n",
      "\n",
      "What is the 10 multiply by 2?\n",
      "==================================\u001b[1m Ai Message \u001b[0m==================================\n",
      "Tool Calls:\n",
      "  MultiplyXbyY (qgrmwhbm5)\n",
      " Call ID: qgrmwhbm5\n",
      "  Args:\n",
      "    x: 10\n",
      "    y: 2\n",
      "=================================\u001b[1m Tool Message \u001b[0m=================================\n",
      "Name: MultiplyXbyY\n",
      "\n",
      "20\n"
     ]
    }
   ],
   "source": [
    "for message in response['messages']:\n",
    "    message.pretty_print()"
   ]
  },
  {
   "cell_type": "code",
   "execution_count": null,
   "id": "bc6eba4f",
   "metadata": {},
   "outputs": [],
   "source": [
    "response = graph.invoke({\"messages\": [\"What is the recent news about AI and then tell me what is 10 multiply by 5 ?\"]})"
   ]
  },
  {
   "cell_type": "code",
   "execution_count": null,
   "id": "eee04a1a",
   "metadata": {},
   "outputs": [
    {
     "name": "stdout",
     "output_type": "stream",
     "text": [
      "================================\u001b[1m Human Message \u001b[0m=================================\n",
      "\n",
      "What is the recent news about AI and then tell me what is 10 multiply by 5 ?\n",
      "==================================\u001b[1m Ai Message \u001b[0m==================================\n",
      "Tool Calls:\n",
      "  tavily_search (1xyw18xyq)\n",
      " Call ID: 1xyw18xyq\n",
      "  Args:\n",
      "    query: recent news about AI\n",
      "    search_depth: advanced\n",
      "    time_range: day\n",
      "    topic: news\n",
      "=================================\u001b[1m Tool Message \u001b[0m=================================\n",
      "Name: tavily_search\n",
      "\n",
      "{\"query\": \"recent news about AI\", \"follow_up_questions\": null, \"answer\": null, \"images\": [], \"results\": [{\"url\": \"https://www.csoonline.com/article/4014238/cybercriminals-take-malicious-ai-to-the-next-level.html\", \"title\": \"Cybercriminals take malicious AI to the next level - csoonline.com\", \"score\": 0.7515939, \"published_date\": \"Mon, 30 Jun 2025 08:32:14 GMT\", \"content\": \"Opinion ### The rise of the compliance super soldier: A new human-AI paradigm in GRC By Nikhil Sarnot Jun 27, 2025 9 mins Compliance Generative AI IT Governance FrameworksNews Analysis ### Pressure is mounting to cut jobs in favor of AI. Here’s why you shouldn’t. By John Leyden Jun 26, 2025 5 mins IT Jobs Security Operations Center Technology IndustryNews ### The top red teamer in the US is an AI bot By Taryn Plumb Jun 25, 2025 5 mins Artificial Intelligence Generative AI Hacking [...] Flashpoint analysts tracked these developments in real-time across more than 100,000 illicit sources, monitoring everything from dark web marketplaces and Telegram groups to\\n\\nunderground LLM communities.\\n\\nBetween Jan. 1 and May 30, 2025, the researchers logged more than 2.5 million AI-related posts covering various nefarious tactics, including jailbreak prompts, deepfake service ads, phishing toolkits, and bespoke language models built for fraud and other forms of cybercrime.\", \"raw_content\": null}, {\"url\": \"https://yourstory.com/2025/06/workforce-needs-technical-skills\", \"title\": \"The AI Revolution: Why tomorrow's workforce needs more than technical skills - YourStory.com\", \"score\": 0.7334523, \"published_date\": \"Mon, 30 Jun 2025 11:22:21 GMT\", \"content\": \"June 26, 2025, 11 min Read Image 26\\\")ys-in-depth ### Adda Education gives skilling a big push as it looks beyond test-prep June 26, 2025, 11 min Read Image 27events ### Don’t fear AI; it will soon be part of everything you do: Dell Technologies’ Vivekanandh NR on building an AI-first mindset June 25, 2025, 5 min Read Image 28herstoryys-report ### Women engineering students show growing interest in AI/ML careers: Report June 24, 2025, 3 min Read Image 29 [...] news ### Startup news and updates: Daily roundup (June 30, 2025) June 30, 2025, 4 min Read Image 22\\\")news ### Startup news and updates: Daily roundup (June 28, 2025) June 28, 2025, 4 min Read Image 23\\\")news ### Startup news and updates: Daily roundup (June 27, 2025) June 27, 2025, 4 min Read Image 24\\\")daily-capsule ### Adda Education forays into skilling; The startups shaping India’s AI agenda June 27, 2025, 6 min Read Image 25news ### Startup news and updates: Daily roundup (June 26, 2025)\", \"raw_content\": null}], \"response_time\": 1.96}\n"
     ]
    }
   ],
   "source": [
    "for message in response['messages']:\n",
    "    message.pretty_print()"
   ]
  },
  {
   "cell_type": "code",
   "execution_count": null,
   "id": "18b94f7f",
   "metadata": {},
   "outputs": [],
   "source": [
    "response = graph.invoke({\"messages\": [\"What is the capital of France?\"]})"
   ]
  },
  {
   "cell_type": "code",
   "execution_count": null,
   "id": "30714cfa",
   "metadata": {},
   "outputs": [
    {
     "name": "stdout",
     "output_type": "stream",
     "text": [
      "================================\u001b[1m Human Message \u001b[0m=================================\n",
      "\n",
      "What is the capital of France?\n",
      "==================================\u001b[1m Ai Message \u001b[0m==================================\n",
      "Tool Calls:\n",
      "  tavily_search (rj2z9fckh)\n",
      " Call ID: rj2z9fckh\n",
      "  Args:\n",
      "    query: What is the capital of France?\n",
      "=================================\u001b[1m Tool Message \u001b[0m=================================\n",
      "Name: tavily_search\n",
      "\n",
      "{\"query\": \"What is the capital of France?\", \"follow_up_questions\": null, \"answer\": null, \"images\": [], \"results\": [{\"title\": \"What is the Capital of France? - WorldAtlas\", \"url\": \"https://www.worldatlas.com/articles/what-is-the-capital-of-france.html\", \"content\": \"Paris is the capital city of France. Contrary to popular belief, the name of the city did not come from the Paris in Greek myths. Located in the north of Central France, the city is relatively flat with the highest point being 427 feet (which is Montmartre) above sea level while the lowest point is 115 feet above the sea level. With a GDP of approximately $850 billion, Paris is the country’s leader for economic activities. Tourists are attracted to Paris because of the rich history the city has including its monuments and sights. As the capital city of France, the city plays host to the national government of France. How Many Countries Are There In Africa? [x] Countries  All Countries\", \"score\": 0.9170729, \"raw_content\": null}, {\"title\": \"Paris - Wikipedia\", \"url\": \"https://en.wikipedia.org/wiki/Paris\", \"content\": \"Paris (French pronunciation: [paʁi] ⓘ) is the capital and largest city of France. With an estimated population of 2,048,472 residents in January 2025 [3] in an area of more than 105 km 2 (41 sq mi), [4] Paris is the fourth-most populous city in the European Union and the 30th most densely populated city in the world in 2022. [5] Since the 17th century, Paris has been one of the world's\", \"score\": 0.8896154, \"raw_content\": null}], \"response_time\": 1.27}\n"
     ]
    }
   ],
   "source": [
    "for message in response['messages']:\n",
    "    message.pretty_print()"
   ]
  },
  {
   "cell_type": "markdown",
   "id": "3a97e2e0",
   "metadata": {},
   "source": [
    "## ReACT Agent Architecture"
   ]
  },
  {
   "cell_type": "markdown",
   "id": "56476eb9",
   "metadata": {},
   "source": [
    "1. Action - whenever input comes to LLM, LLM will make a tool call\n",
    "2. Observe - When output comes from Tool Node, LLM observe, whether it should make tool call or go to the end node\n",
    "3. Reason - The LLM analyzes the current task, the history of previous actions and observations, and the overall goal.This is analogous to a human thinking through a problem before acting."
   ]
  },
  {
   "cell_type": "code",
   "execution_count": null,
   "id": "689f9e75",
   "metadata": {},
   "outputs": [],
   "source": [
    "from langgraph.graph import StateGraph, START, END\n",
    "from langgraph.prebuilt import ToolNode, tools_condition"
   ]
  },
  {
   "cell_type": "code",
   "execution_count": null,
   "id": "d5fe7cd6",
   "metadata": {},
   "outputs": [],
   "source": [
    "builder = StateGraph(state)\n",
    "builder.add_node(\n",
    "    \"tool_calling_llm\",\n",
    "    tool_calling_llm \n",
    ")\n",
    "builder.add_node(\n",
    "    \"tools\",\n",
    "    ToolNode(tools)\n",
    ")\n",
    "# add the edges to the graph\n",
    "builder.add_edge(START, \"tool_calling_llm\")\n",
    "builder.add_conditional_edges(\"tool_calling_llm\", tools_condition)\n",
    "# if the tool calling LLM returns a tool call, it will go to the tools node\n",
    "builder.add_edge(\"tools\", \"tool_calling_llm\")\n",
    "#LLM will call the tools node again if it returns a tool call\n",
    "graph = builder.compile()"
   ]
  },
  {
   "cell_type": "code",
   "execution_count": null,
   "id": "c552fd3b",
   "metadata": {},
   "outputs": [
    {
     "data": {
      "image/png": "[encoded data removed]",
      "text/plain": [
       "<IPython.core.display.Image object>"
      ]
     },
     "metadata": {},
     "output_type": "display_data"
    }
   ],
   "source": [
    "display(Image(graph.get_graph().draw_mermaid_png()))"
   ]
  },
  {
   "cell_type": "code",
   "execution_count": null,
   "id": "aead38ae",
   "metadata": {},
   "outputs": [
    {
     "name": "stdout",
     "output_type": "stream",
     "text": [
      "================================\u001b[1m Human Message \u001b[0m=================================\n",
      "\n",
      "What is the recent AI News and then what is 10 multiply by 5 ?\n",
      "==================================\u001b[1m Ai Message \u001b[0m==================================\n",
      "Tool Calls:\n",
      "  tavily_search (nmd2vxk3a)\n",
      " Call ID: nmd2vxk3a\n",
      "  Args:\n",
      "    query: recent AI news\n",
      "    search_depth: advanced\n",
      "    time_range: day\n",
      "    topic: news\n",
      "  MultiplyXbyY (r1hnrhxq3)\n",
      " Call ID: r1hnrhxq3\n",
      "  Args:\n",
      "    x: 10\n",
      "    y: 5\n",
      "=================================\u001b[1m Tool Message \u001b[0m=================================\n",
      "Name: tavily_search\n",
      "\n",
      "{\"query\": \"recent AI news\", \"follow_up_questions\": null, \"answer\": null, \"images\": [], \"results\": [{\"url\": \"https://yourstory.com/2025/06/workforce-needs-technical-skills\", \"title\": \"The AI Revolution: Why tomorrow's workforce needs more than technical skills - YourStory.com\", \"score\": 0.7092009, \"published_date\": \"Mon, 30 Jun 2025 11:22:21 GMT\", \"content\": \"June 26, 2025, 11 min Read Image 26\\\")ys-in-depth ### Adda Education gives skilling a big push as it looks beyond test-prep June 26, 2025, 11 min Read Image 27events ### Don’t fear AI; it will soon be part of everything you do: Dell Technologies’ Vivekanandh NR on building an AI-first mindset June 25, 2025, 5 min Read Image 28herstoryys-report ### Women engineering students show growing interest in AI/ML careers: Report June 24, 2025, 3 min Read Image 29\", \"raw_content\": null}, {\"url\": \"https://www.csoonline.com/article/4014238/cybercriminals-take-malicious-ai-to-the-next-level.html\", \"title\": \"Cybercriminals take malicious AI to the next level - csoonline.com\", \"score\": 0.7043437, \"published_date\": \"Mon, 30 Jun 2025 08:32:14 GMT\", \"content\": \"Opinion ### The rise of the compliance super soldier: A new human-AI paradigm in GRC By Nikhil Sarnot Jun 27, 2025 9 mins Compliance Generative AI IT Governance FrameworksNews Analysis ### Pressure is mounting to cut jobs in favor of AI. Here’s why you shouldn’t. By John Leyden Jun 26, 2025 5 mins IT Jobs Security Operations Center Technology IndustryNews ### The top red teamer in the US is an AI bot By Taryn Plumb Jun 25, 2025 5 mins Artificial Intelligence Generative AI Hacking [...] Flashpoint analysts tracked these developments in real-time across more than 100,000 illicit sources, monitoring everything from dark web marketplaces and Telegram groups to\\n\\nunderground LLM communities.\\n\\nBetween Jan. 1 and May 30, 2025, the researchers logged more than 2.5 million AI-related posts covering various nefarious tactics, including jailbreak prompts, deepfake service ads, phishing toolkits, and bespoke language models built for fraud and other forms of cybercrime.\", \"raw_content\": null}], \"response_time\": 2.02}\n",
      "=================================\u001b[1m Tool Message \u001b[0m=================================\n",
      "Name: MultiplyXbyY\n",
      "\n",
      "50\n",
      "==================================\u001b[1m Ai Message \u001b[0m==================================\n",
      "Tool Calls:\n",
      "  tavily_search (hfp2cbxt6)\n",
      " Call ID: hfp2cbxt6\n",
      "  Args:\n",
      "    query: summary of recent AI news results\n",
      "    search_depth: basic\n",
      "    time_range: day\n",
      "    topic: news\n",
      "  MultiplyXbyY (gwz6n5vhz)\n",
      " Call ID: gwz6n5vhz\n",
      "  Args:\n",
      "    x: 50\n",
      "    y: 5\n",
      "=================================\u001b[1m Tool Message \u001b[0m=================================\n",
      "Name: tavily_search\n",
      "\n",
      "{\"query\": \"summary of recent AI news results\", \"follow_up_questions\": null, \"answer\": null, \"images\": [], \"results\": [{\"url\": \"https://yourstory.com/2025/06/workforce-needs-technical-skills\", \"title\": \"The AI Revolution: Why tomorrow's workforce needs more than technical skills - YourStory.com\", \"score\": 0.5752307, \"published_date\": \"Mon, 30 Jun 2025 11:22:21 GMT\", \"content\": \"Image 15: The AI Revolution: Why tomorrow's workforce needs more than technical skills news ### Startup news and updates: Daily roundup (June 30, 2025) June 30, 2025, 4 min Read Image 22\\\")news ### Startup news and updates: Daily roundup (June 28, 2025) June 28, 2025, 4 min Read Image 23\\\")news ### Startup news and updates: Daily roundup (June 27, 2025) June 27, 2025, 4 min Read Image 24\\\")daily-capsule ### Adda Education forays into skilling; The startups shaping India’s AI agenda June 27, 2025, 6 min Read Image 25news ### Startup news and updates: Daily roundup (June 26, 2025) June 26, 2025, 11 min Read Image 26\\\")ys-in-depth ### Adda Education gives skilling a big push as it looks beyond test-prep June 26, 2025, 11 min Read Image 27events ### Don’t fear AI; it will soon be part of everything you do: Dell Technologies’ Vivekanandh NR on building an AI-first mindset June 25, 2025, 5 min Read Image 28herstoryys-report ### Women engineering students show growing interest in AI/ML careers: Report June 24, 2025, 3 min Read Image 29\", \"raw_content\": null}, {\"url\": \"https://www.csoonline.com/article/4014238/cybercriminals-take-malicious-ai-to-the-next-level.html\", \"title\": \"Cybercriminals take malicious AI to the next level - csoonline.com\", \"score\": 0.5697814, \"published_date\": \"Mon, 30 Jun 2025 08:32:14 GMT\", \"content\": \"By John Leyden Jun 26, 2025 5 mins IT Jobs Security Operations Center Technology IndustryNews ### The top red teamer in the US is an AI bot By Taryn Plumb Jun 25, 2025 5 mins Artificial Intelligence Generative AI Hacking news analysis ### Cybercriminals take malicious AI to the next level By John Leyden Jun 30, 2025 5 mins Artificial Intelligence Cyberattacks Cybercrime Image 4: Image podcast ### CSO Executive Sessions: How AI and LLMs are affecting security in the financial services industry Mar 20, 2025 13 mins CSO and CISO Financial Services Industry Security Operations Center Image 8: Image video ### Standard Chartered’s Alvaro Garrido on AI threats and what CIOs/CISOs must know in their AI journey Apr 10, 2025 14 mins CIO CSO and CISO Financial Services Industry Image 12: Image\", \"raw_content\": null}], \"response_time\": 0.29}\n",
      "=================================\u001b[1m Tool Message \u001b[0m=================================\n",
      "Name: MultiplyXbyY\n",
      "\n",
      "250\n",
      "==================================\u001b[1m Ai Message \u001b[0m==================================\n",
      "\n",
      "Here is the response:\n",
      "\n",
      "50 * 5 = 250\n"
     ]
    }
   ],
   "source": [
    "response = graph.invoke({\"messages\": [\"What is the recent AI News and then what is 10 multiply by 5 ?\"]})\n",
    "for message in response['messages']:\n",
    "    message.pretty_print()"
   ]
  },
  {
   "cell_type": "markdown",
   "id": "02c68ff5",
   "metadata": {},
   "source": [
    "## Adding Memory to the Agentic Graph"
   ]
  },
  {
   "cell_type": "code",
   "execution_count": null,
   "id": "c2a4d1b6",
   "metadata": {},
   "outputs": [
    {
     "name": "stdout",
     "output_type": "stream",
     "text": [
      "================================\u001b[1m Human Message \u001b[0m=================================\n",
      "\n",
      "my name is Rohit\n",
      "==================================\u001b[1m Ai Message \u001b[0m==================================\n",
      "\n",
      "Nice to meet you, Rohit! I'm here to assist you with any questions or tasks you may have. Since you're starting a conversation, I'll follow the TEXT_INSTRUCTIONS and respond directly without using a tool. What's on your mind, Rohit?\n"
     ]
    }
   ],
   "source": [
    "response = graph.invoke({\"messages\": [\"my name is Rohit\"]})\n",
    "for message in response['messages']:\n",
    "    message.pretty_print()"
   ]
  },
  {
   "cell_type": "code",
   "execution_count": null,
   "id": "5da29b44",
   "metadata": {},
   "outputs": [],
   "source": [
    "response = graph.invoke({\"messages\": [\"What is my name?\"]})"
   ]
  },
  {
   "cell_type": "code",
   "execution_count": null,
   "id": "5726f6d1",
   "metadata": {},
   "outputs": [
    {
     "name": "stdout",
     "output_type": "stream",
     "text": [
      "================================\u001b[1m Human Message \u001b[0m=================================\n",
      "\n",
      "What is my name?\n",
      "==================================\u001b[1m Ai Message \u001b[0m==================================\n",
      "Tool Calls:\n",
      "  MultiplyXbyY (acdeqwevs)\n",
      " Call ID: acdeqwevs\n",
      "  Args:\n",
      "    x: 1\n",
      "    y: 0\n",
      "=================================\u001b[1m Tool Message \u001b[0m=================================\n",
      "Name: MultiplyXbyY\n",
      "\n",
      "0\n",
      "==================================\u001b[1m Ai Message \u001b[0m==================================\n",
      "\n",
      "I apologize, but it seems that the tool call \"acdeqwevs\" did not provide a valid result. Since I'm not aware of your actual name, I'll respond directly without using a tool.\n",
      "\n",
      "I don't have any information about your name. Could you please provide it to me?\n"
     ]
    }
   ],
   "source": [
    "for message in response['messages']:\n",
    "    message.pretty_print()"
   ]
  },
  {
   "cell_type": "code",
   "execution_count": null,
   "id": "832fba1f",
   "metadata": {},
   "outputs": [],
   "source": [
    "from langgraph.graph import StateGraph, START, END\n",
    "from langgraph.prebuilt import ToolNode, tools_condition\n",
    "from langgraph.checkpoint.memory import MemorySaver"
   ]
  },
  {
   "cell_type": "code",
   "execution_count": null,
   "id": "8098cf13",
   "metadata": {},
   "outputs": [],
   "source": [
    "memory = MemorySaver()\n",
    "builder = StateGraph(state)\n",
    "builder.add_node(\n",
    "    \"tool_calling_llm\",\n",
    "    tool_calling_llm \n",
    ")\n",
    "builder.add_node(\n",
    "    \"tools\",\n",
    "    ToolNode(tools)\n",
    ")\n",
    "# add the edges to the graph\n",
    "builder.add_edge(START, \"tool_calling_llm\")\n",
    "builder.add_conditional_edges(\"tool_calling_llm\", tools_condition)\n",
    "# if the tool calling LLM returns a tool call, it will go to the tools node\n",
    "# if the LLM does not return a tool call, it will go to the END state\n",
    "builder.add_edge(\"tools\", \"tool_calling_llm\")\n",
    "\n",
    "#compile the graph with memory\n",
    "graph = builder.compile(checkpointer=memory)"
   ]
  },
  {
   "cell_type": "code",
   "execution_count": null,
   "id": "fdb68429",
   "metadata": {},
   "outputs": [
    {
     "data": {
      "image/png": "[encoded data removed]",
      "text/plain": [
       "<IPython.core.display.Image object>"
      ]
     },
     "metadata": {},
     "output_type": "display_data"
    }
   ],
   "source": [
    "display(Image(graph.get_graph().draw_mermaid_png()))"
   ]
  },
  {
   "cell_type": "markdown",
   "id": "7893620a",
   "metadata": {},
   "source": [
    "Adding Memory -\n",
    "To persist the agent’s state, we use LangGraph’s MemorySaver, a built-in checkpointer. This checkpointer stores states in memory and associates them with a thread_id."
   ]
  },
  {
   "cell_type": "code",
   "execution_count": null,
   "id": "24658581",
   "metadata": {},
   "outputs": [],
   "source": [
    "config = {\"configurable\":{\"thread_id\": \"1\"}}"
   ]
  },
  {
   "cell_type": "code",
   "execution_count": null,
   "id": "b218e673",
   "metadata": {},
   "outputs": [],
   "source": [
    "response = graph.invoke({\"messages\": [\"Hi,My Name is Rohit\"]}, config=config)"
   ]
  },
  {
   "cell_type": "code",
   "execution_count": null,
   "id": "ffa84acd",
   "metadata": {},
   "outputs": [
    {
     "name": "stdout",
     "output_type": "stream",
     "text": [
      "================================\u001b[1m Human Message \u001b[0m=================================\n",
      "\n",
      "Hi,My Name is Rohit\n",
      "==================================\u001b[1m Ai Message \u001b[0m==================================\n",
      "\n",
      "Nice to meet you, Rohit!\n"
     ]
    }
   ],
   "source": [
    "for message in response['messages']:\n",
    "    message.pretty_print()"
   ]
  },
  {
   "cell_type": "code",
   "execution_count": null,
   "id": "31509d81",
   "metadata": {},
   "outputs": [
    {
     "name": "stdout",
     "output_type": "stream",
     "text": [
      "================================\u001b[1m Human Message \u001b[0m=================================\n",
      "\n",
      "Hi,My Name is Rohit\n",
      "==================================\u001b[1m Ai Message \u001b[0m==================================\n",
      "\n",
      "Nice to meet you, Rohit!\n",
      "================================\u001b[1m Human Message \u001b[0m=================================\n",
      "\n",
      "What is my name?\n",
      "==================================\u001b[1m Ai Message \u001b[0m==================================\n",
      "\n",
      "Your name is Rohit.\n"
     ]
    }
   ],
   "source": [
    "response = graph.invoke({\"messages\": [\"What is my name?\"]}, config=config)\n",
    "for message in response['messages']:\n",
    "    message.pretty_print()"
   ]
  },
  {
   "cell_type": "code",
   "execution_count": null,
   "id": "ef9713ae",
   "metadata": {},
   "outputs": [
    {
     "data": {
      "text/plain": [
       "'Your name is Rohit.'"
      ]
     },
     "execution_count": 48,
     "metadata": {},
     "output_type": "execute_result"
    }
   ],
   "source": [
    "response['messages'][-1].content"
   ]
  },
  {
   "cell_type": "markdown",
   "id": "30fcc4b4",
   "metadata": {},
   "source": [
    "## streaming "
   ]
  },
  {
   "cell_type": "markdown",
   "id": "59f2a18c",
   "metadata": {},
   "source": [
    "Flow - \n",
    "    Node1 --> Node 2 -- > Node3\n",
    "\n",
    "Stream -\n",
    "        mode = update\n",
    "        mode = value (Appends the previous conversation in the list )\n",
    "astream - \n",
    "        version = \"v2\"(Gives detailed conversation output)\n",
    "\n",
    "{\"message\"=[\"Hi\"]} -->  {\"message\"=[\"My Name is\"]} --> {\"message\"=[\"Rohit\"]}\n"
   ]
  },
  {
   "cell_type": "code",
   "execution_count": null,
   "id": "7d17ac8e",
   "metadata": {},
   "outputs": [],
   "source": [
    "from langgraph.checkpoint.memory import MemorySaver\n",
    "memory = MemorySaver()"
   ]
  },
  {
   "cell_type": "code",
   "execution_count": null,
   "id": "ca7ccb2c",
   "metadata": {},
   "outputs": [],
   "source": [
    "def superbot(state: state) -> str:\n",
    "    \"\"\"_summary_\n",
    "\n",
    "    Args:\n",
    "        state (state): _description_\n",
    "\n",
    "    Returns:\n",
    "        str: _description_\n",
    "    \"\"\"\n",
    "    return {\"messages\": [llm.invoke(state[\"messages\"])]}"
   ]
  },
  {
   "cell_type": "code",
   "execution_count": null,
   "id": "17693c14",
   "metadata": {},
   "outputs": [
    {
     "data": {
      "image/png": "[encoded data removed]",
      "text/plain": [
       "<IPython.core.display.Image object>"
      ]
     },
     "metadata": {},
     "output_type": "display_data"
    }
   ],
   "source": [
    "graph = StateGraph(state)\n",
    "\n",
    "graph.add_node('superbot', superbot)\n",
    "# add the edge from START to the superbot node\n",
    "graph.add_edge(START, 'superbot')\n",
    "graph.add_edge('superbot', END)\n",
    "# Create the graph or compile the graph\n",
    "graph_builder = graph.compile(checkpointer=memory)\n",
    "\n",
    "display(Image(graph_builder.get_graph().draw_mermaid_png()))\n"
   ]
  },
  {
   "cell_type": "code",
   "execution_count": null,
   "id": "b290dfaa",
   "metadata": {},
   "outputs": [
    {
     "name": "stdout",
     "output_type": "stream",
     "text": [
      "{'superbot': {'messages': [AIMessage(content='Hi Rohit! Nice to meet you! Football is a great interest to have! Which team do you support? Do you have a favorite player or league that you enjoy watching?', additional_kwargs={}, response_metadata={'token_usage': {'completion_tokens': 37, 'prompt_tokens': 21, 'total_tokens': 58, 'completion_time': 0.088123757, 'prompt_time': 0.006816913, 'queue_time': 0.275152598, 'total_time': 0.09494067}, 'model_name': 'llama3-8b-8192', 'system_fingerprint': 'fp_6d1c2b0784', 'finish_reason': 'stop', 'logprobs': None}, id='run--dc91319a-f6f8-4e7e-a6eb-d1f62a79fe8d-0', usage_metadata={'input_tokens': 21, 'output_tokens': 37, 'total_tokens': 58})]}}\n"
     ]
    }
   ],
   "source": [
    "config = {\"configurable\":{\"thread_id\": \"3\"}}\n",
    "\n",
    "for message in graph_builder.stream({\"messages\": [\"Hi, My name is Rohit and I like football\"]}, config, stream_mode = \"updates\"):\n",
    "    print(message)"
   ]
  },
  {
   "cell_type": "code",
   "execution_count": null,
   "id": "51e87815",
   "metadata": {},
   "outputs": [
    {
     "name": "stdout",
     "output_type": "stream",
     "text": [
      "{'messages': [HumanMessage(content='Hi, My name is Rohit and I like football', additional_kwargs={}, response_metadata={}, id='0f257f88-47b3-434c-ae5e-a706582e200f'), AIMessage(content='Hi Rohit! Nice to meet you! Football is a great interest to have! Which team do you support? Do you have a favorite player or league that you enjoy watching?', additional_kwargs={}, response_metadata={'token_usage': {'completion_tokens': 37, 'prompt_tokens': 21, 'total_tokens': 58, 'completion_time': 0.088123757, 'prompt_time': 0.006816913, 'queue_time': 0.275152598, 'total_time': 0.09494067}, 'model_name': 'llama3-8b-8192', 'system_fingerprint': 'fp_6d1c2b0784', 'finish_reason': 'stop', 'logprobs': None}, id='run--dc91319a-f6f8-4e7e-a6eb-d1f62a79fe8d-0', usage_metadata={'input_tokens': 21, 'output_tokens': 37, 'total_tokens': 58}), HumanMessage(content='Hi, My name is Rohit and I like football', additional_kwargs={}, response_metadata={}, id='a8524038-6a57-450d-8d3d-809ff1c686b9')]}\n",
      "{'messages': [HumanMessage(content='Hi, My name is Rohit and I like football', additional_kwargs={}, response_metadata={}, id='0f257f88-47b3-434c-ae5e-a706582e200f'), AIMessage(content='Hi Rohit! Nice to meet you! Football is a great interest to have! Which team do you support? Do you have a favorite player or league that you enjoy watching?', additional_kwargs={}, response_metadata={'token_usage': {'completion_tokens': 37, 'prompt_tokens': 21, 'total_tokens': 58, 'completion_time': 0.088123757, 'prompt_time': 0.006816913, 'queue_time': 0.275152598, 'total_time': 0.09494067}, 'model_name': 'llama3-8b-8192', 'system_fingerprint': 'fp_6d1c2b0784', 'finish_reason': 'stop', 'logprobs': None}, id='run--dc91319a-f6f8-4e7e-a6eb-d1f62a79fe8d-0', usage_metadata={'input_tokens': 21, 'output_tokens': 37, 'total_tokens': 58}), HumanMessage(content='Hi, My name is Rohit and I like football', additional_kwargs={}, response_metadata={}, id='a8524038-6a57-450d-8d3d-809ff1c686b9'), AIMessage(content='Nice to meet you, Rohit! Football is a great interest to have! Do you have a favorite team or player? Are you a fan of a particular league, like the English Premier League, La Liga, or the Champions League?', additional_kwargs={}, response_metadata={'token_usage': {'completion_tokens': 49, 'prompt_tokens': 78, 'total_tokens': 127, 'completion_time': 0.04097364, 'prompt_time': 0.016592348, 'queue_time': 0.273707611, 'total_time': 0.057565988}, 'model_name': 'llama3-8b-8192', 'system_fingerprint': 'fp_8b7c3a83f7', 'finish_reason': 'stop', 'logprobs': None}, id='run--f766777d-ff35-4fcd-ad03-f7f2510ab503-0', usage_metadata={'input_tokens': 78, 'output_tokens': 49, 'total_tokens': 127})]}\n"
     ]
    }
   ],
   "source": [
    "for message in graph_builder.stream({\"messages\": [\"Hi, My name is Rohit and I like football\"]}, config, stream_mode = \"values\"):\n",
    "    print(message)"
   ]
  },
  {
   "cell_type": "code",
   "execution_count": null,
   "id": "1119ec1f",
   "metadata": {},
   "outputs": [
    {
     "name": "stdout",
     "output_type": "stream",
     "text": [
      "{'superbot': {'messages': [AIMessage(content=\"Hello Rohit! It's great to meet you! Football, huh? Which team do you support?\", additional_kwargs={}, response_metadata={'token_usage': {'completion_tokens': 22, 'prompt_tokens': 21, 'total_tokens': 43, 'completion_time': 0.015827262, 'prompt_time': 0.002946794, 'queue_time': 0.271999415, 'total_time': 0.018774056}, 'model_name': 'llama3-8b-8192', 'system_fingerprint': 'fp_2717d04279', 'finish_reason': 'stop', 'logprobs': None}, id='run--9026f1a9-164b-4b79-9ffd-ba03e38e42f2-0', usage_metadata={'input_tokens': 21, 'output_tokens': 22, 'total_tokens': 43})]}}\n"
     ]
    }
   ],
   "source": [
    "config = {\"configurable\":{\"thread_id\": \"4\"}}\n",
    "\n",
    "for message in graph_builder.stream({\"messages\": [\"Hi, My name is Rohit and I like football\"]}, config, stream_mode = \"updates\"):\n",
    "    print(message)"
   ]
  },
  {
   "cell_type": "code",
   "execution_count": null,
   "id": "d552abd1",
   "metadata": {},
   "outputs": [
    {
     "name": "stdout",
     "output_type": "stream",
     "text": [
      "{'messages': [HumanMessage(content='Hi, My name is Rohit and I like football', additional_kwargs={}, response_metadata={}, id='95c67d34-af50-4286-8d7d-e07b5475732e'), AIMessage(content=\"Hello Rohit! It's great to meet you! Football, huh? Which team do you support?\", additional_kwargs={}, response_metadata={'token_usage': {'completion_tokens': 22, 'prompt_tokens': 21, 'total_tokens': 43, 'completion_time': 0.015827262, 'prompt_time': 0.002946794, 'queue_time': 0.271999415, 'total_time': 0.018774056}, 'model_name': 'llama3-8b-8192', 'system_fingerprint': 'fp_2717d04279', 'finish_reason': 'stop', 'logprobs': None}, id='run--9026f1a9-164b-4b79-9ffd-ba03e38e42f2-0', usage_metadata={'input_tokens': 21, 'output_tokens': 22, 'total_tokens': 43}), HumanMessage(content='I Also like Cricket', additional_kwargs={}, response_metadata={}, id='b6e90dd0-08e3-4ba3-ab83-12d65f6767fe')]}\n",
      "{'messages': [HumanMessage(content='Hi, My name is Rohit and I like football', additional_kwargs={}, response_metadata={}, id='95c67d34-af50-4286-8d7d-e07b5475732e'), AIMessage(content=\"Hello Rohit! It's great to meet you! Football, huh? Which team do you support?\", additional_kwargs={}, response_metadata={'token_usage': {'completion_tokens': 22, 'prompt_tokens': 21, 'total_tokens': 43, 'completion_time': 0.015827262, 'prompt_time': 0.002946794, 'queue_time': 0.271999415, 'total_time': 0.018774056}, 'model_name': 'llama3-8b-8192', 'system_fingerprint': 'fp_2717d04279', 'finish_reason': 'stop', 'logprobs': None}, id='run--9026f1a9-164b-4b79-9ffd-ba03e38e42f2-0', usage_metadata={'input_tokens': 21, 'output_tokens': 22, 'total_tokens': 43}), HumanMessage(content='I Also like Cricket', additional_kwargs={}, response_metadata={}, id='b6e90dd0-08e3-4ba3-ab83-12d65f6767fe'), AIMessage(content='A sports enthusiast! Cricket and football are two of the most popular sports in the world. Do you have a favorite cricketer or team in the Indian Premier League (IPL)?', additional_kwargs={}, response_metadata={'token_usage': {'completion_tokens': 38, 'prompt_tokens': 56, 'total_tokens': 94, 'completion_time': 0.031719477, 'prompt_time': 0.011901553, 'queue_time': 0.293515968, 'total_time': 0.04362103}, 'model_name': 'llama3-8b-8192', 'system_fingerprint': 'fp_8b7c3a83f7', 'finish_reason': 'stop', 'logprobs': None}, id='run--7f775293-1dcf-465d-9208-30695bec1856-0', usage_metadata={'input_tokens': 56, 'output_tokens': 38, 'total_tokens': 94})]}\n"
     ]
    }
   ],
   "source": [
    "for message in graph_builder.stream({\"messages\": [\"I Also like Cricket\"]}, config, stream_mode = \"values\"):\n",
    "    print(message)"
   ]
  },
  {
   "cell_type": "code",
   "execution_count": null,
   "id": "892cd840",
   "metadata": {},
   "outputs": [
    {
     "name": "stdout",
     "output_type": "stream",
     "text": [
      "{'event': 'on_chain_start', 'data': {'input': {'messages': ['Hi, My name is Rohit and I like football']}}, 'name': 'LangGraph', 'tags': [], 'run_id': '3a8259ed-cf63-49c9-af7f-75b49c66bd52', 'metadata': {'thread_id': '5'}, 'parent_ids': []}\n",
      "{'event': 'on_chain_start', 'data': {'input': {'messages': [HumanMessage(content='Hi, My name is Rohit and I like football', additional_kwargs={}, response_metadata={}, id='83812e84-1052-4b5d-b509-e5c3ad8df26c')]}}, 'name': 'superbot', 'tags': ['graph:step:1'], 'run_id': 'fe91c49f-2fe3-4b05-bc94-d0b7cb483b73', 'metadata': {'thread_id': '5', 'langgraph_step': 1, 'langgraph_node': 'superbot', 'langgraph_triggers': ('branch:to:superbot',), 'langgraph_path': ('__pregel_pull', 'superbot'), 'langgraph_checkpoint_ns': 'superbot:a1215b84-ea98-e0ed-10b2-0a3abb0dcab0'}, 'parent_ids': ['3a8259ed-cf63-49c9-af7f-75b49c66bd52']}\n",
      "{'event': 'on_chain_stream', 'run_id': 'fe91c49f-2fe3-4b05-bc94-d0b7cb483b73', 'name': 'superbot', 'tags': ['graph:step:1'], 'metadata': {'thread_id': '5', 'langgraph_step': 1, 'langgraph_node': 'superbot', 'langgraph_triggers': ('branch:to:superbot',), 'langgraph_path': ('__pregel_pull', 'superbot'), 'langgraph_checkpoint_ns': 'superbot:a1215b84-ea98-e0ed-10b2-0a3abb0dcab0'}, 'data': {'chunk': {'messages': [AIMessage(content='Nice to meet you, Rohit! Football is a great sport! Which team do you support? Do you have a favorite player or league?', additional_kwargs={}, response_metadata={'token_usage': {'completion_tokens': 30, 'prompt_tokens': 21, 'total_tokens': 51, 'completion_time': 0.021693301, 'prompt_time': 0.004398482, 'queue_time': 0.27273013700000004, 'total_time': 0.026091783}, 'model_name': 'llama3-8b-8192', 'system_fingerprint': 'fp_2717d04279', 'finish_reason': 'stop', 'logprobs': None}, id='run--6ccf858d-c2e2-4ef2-b6e6-bd070af91976-0', usage_metadata={'input_tokens': 21, 'output_tokens': 30, 'total_tokens': 51})]}}, 'parent_ids': ['3a8259ed-cf63-49c9-af7f-75b49c66bd52']}\n",
      "{'event': 'on_chain_end', 'data': {'output': {'messages': [AIMessage(content='Nice to meet you, Rohit! Football is a great sport! Which team do you support? Do you have a favorite player or league?', additional_kwargs={}, response_metadata={'token_usage': {'completion_tokens': 30, 'prompt_tokens': 21, 'total_tokens': 51, 'completion_time': 0.021693301, 'prompt_time': 0.004398482, 'queue_time': 0.27273013700000004, 'total_time': 0.026091783}, 'model_name': 'llama3-8b-8192', 'system_fingerprint': 'fp_2717d04279', 'finish_reason': 'stop', 'logprobs': None}, id='run--6ccf858d-c2e2-4ef2-b6e6-bd070af91976-0', usage_metadata={'input_tokens': 21, 'output_tokens': 30, 'total_tokens': 51})]}, 'input': {'messages': [HumanMessage(content='Hi, My name is Rohit and I like football', additional_kwargs={}, response_metadata={}, id='83812e84-1052-4b5d-b509-e5c3ad8df26c')]}}, 'run_id': 'fe91c49f-2fe3-4b05-bc94-d0b7cb483b73', 'name': 'superbot', 'tags': ['graph:step:1'], 'metadata': {'thread_id': '5', 'langgraph_step': 1, 'langgraph_node': 'superbot', 'langgraph_triggers': ('branch:to:superbot',), 'langgraph_path': ('__pregel_pull', 'superbot'), 'langgraph_checkpoint_ns': 'superbot:a1215b84-ea98-e0ed-10b2-0a3abb0dcab0'}, 'parent_ids': ['3a8259ed-cf63-49c9-af7f-75b49c66bd52']}\n",
      "{'event': 'on_chain_end', 'data': {'output': {'messages': [HumanMessage(content='Hi, My name is Rohit and I like football', additional_kwargs={}, response_metadata={}, id='83812e84-1052-4b5d-b509-e5c3ad8df26c'), AIMessage(content='Nice to meet you, Rohit! Football is a great sport! Which team do you support? Do you have a favorite player or league?', additional_kwargs={}, response_metadata={'token_usage': {'completion_tokens': 30, 'prompt_tokens': 21, 'total_tokens': 51, 'completion_time': 0.021693301, 'prompt_time': 0.004398482, 'queue_time': 0.27273013700000004, 'total_time': 0.026091783}, 'model_name': 'llama3-8b-8192', 'system_fingerprint': 'fp_2717d04279', 'finish_reason': 'stop', 'logprobs': None}, id='run--6ccf858d-c2e2-4ef2-b6e6-bd070af91976-0', usage_metadata={'input_tokens': 21, 'output_tokens': 30, 'total_tokens': 51})]}}, 'run_id': '3a8259ed-cf63-49c9-af7f-75b49c66bd52', 'name': 'LangGraph', 'tags': [], 'metadata': {'thread_id': '5'}, 'parent_ids': []}\n"
     ]
    }
   ],
   "source": [
    "config = {\"configurable\":{\"thread_id\": \"5\"}}\n",
    "\n",
    "async for message in graph_builder.astream_events({\"messages\": [\"Hi, My name is Rohit and I like football\"]}, config, stream_mode = \"v2\"):\n",
    "    print(message)"
   ]
  },
  {
   "cell_type": "code",
   "execution_count": null,
   "id": "902a3a50",
   "metadata": {},
   "outputs": [],
   "source": []
  },
  {
   "cell_type": "code",
   "execution_count": null,
   "id": "81b93f4b",
   "metadata": {},
   "outputs": [],
   "source": []
  }
 ],
 "metadata": {
  "kernelspec": {
   "display_name": "agentic_ai",
   "language": "python",
   "name": "python3"
  },
  "language_info": {
   "codemirror_mode": {
    "name": "ipython",
    "version": 3
   },
   "file_extension": ".py",
   "mimetype": "text/x-python",
   "name": "python",
   "nbconvert_exporter": "python",
   "pygments_lexer": "ipython3",
   "version": "3.9.12"
  }
 },
 "nbformat": 4,
 "nbformat_minor": 5
}
