{
 "cells": [
  {
   "cell_type": "markdown",
   "id": "66499ffb",
   "metadata": {},
   "source": [
    "### Basic Chatbot with langgraph(Graph API)"
   ]
  },
  {
   "cell_type": "markdown",
   "id": "435511f1",
   "metadata": {},
   "source": [
    "#### Components of langgraph\n",
    "- Edge\n",
    "- Node\n",
    "- state (this part will store the variables that will be utilised in some of the edges and nodes)\n",
    "\n",
    "Yt videos --> Blog\n",
    "\n",
    "- workflow\n",
    "1. Yt vides --> Transcript\n",
    "2. Transcript --> title\n",
    "3. Title,Transcript --> Content\n"
   ]
  },
  {
   "cell_type": "markdown",
   "id": "befaf363",
   "metadata": {},
   "source": [
    "workflow graph:\n",
    "\n",
    "            start(input as YT url)\n",
    "              |\n",
    "              |  - Edge (genreating transcript from Youtube URl using langchains YTloader)\n",
    "         \n",
    "         Transcript generator (node)\n",
    "           \n",
    "              |\n",
    "              |  - transcript as variable traversing through edge\n",
    "        \n",
    "        Title Generator (Generates title based on Transcript Provided)\n",
    "           \n",
    "              |\n",
    "              | - Transript and title traversing through this edge\n",
    "        \n",
    "        Content Generator (Generates content based on Transcript and Title Provided)\n",
    "\n",
    "above diagram is StateGraph"
   ]
  },
  {
   "cell_type": "code",
   "execution_count": 1,
   "id": "f1e28392",
   "metadata": {},
   "outputs": [],
   "source": [
    "from typing import Annotated\n",
    "from typing_extensions import TypedDict\n",
    "from langgraph.graph import StateGraph,START,END\n",
    "from langgraph.graph.message import add_messages"
   ]
  },
  {
   "cell_type": "code",
   "execution_count": 2,
   "id": "43414287",
   "metadata": {},
   "outputs": [],
   "source": [
    "class state(TypedDict):\n",
    "    #messages have the format of a list of strings. the 'add_messages' function will\n",
    "    #automatically add the messages to the state. in the annotation,defines how the \n",
    "    # messages are stored in the state.\n",
    "    messages: Annotated[list[str], add_messages]\n",
    "    # in this case, it appends the messages to the list, rather than replacing it.\n",
    "    # the 'messages' key is a list of strings, which will be used to store the messages.\n",
    "graph_builder = StateGraph(state)"
   ]
  },
  {
   "cell_type": "code",
   "execution_count": 3,
   "id": "bf8fe2a7",
   "metadata": {},
   "outputs": [
    {
     "data": {
      "text/plain": [
       "True"
      ]
     },
     "execution_count": 3,
     "metadata": {},
     "output_type": "execute_result"
    }
   ],
   "source": [
    "import os\n",
    "from dotenv import load_dotenv\n",
    "load_dotenv()"
   ]
  },
  {
   "cell_type": "code",
   "execution_count": 4,
   "id": "e1813ddd",
   "metadata": {},
   "outputs": [],
   "source": [
    "from langchain_groq import ChatGroq\n",
    "from langchain.chat_models import init_chat_model"
   ]
  },
  {
   "cell_type": "code",
   "execution_count": 5,
   "id": "6a2f272b",
   "metadata": {},
   "outputs": [],
   "source": [
    "llm = ChatGroq(model = \"llama3-8b-8192\" )"
   ]
  },
  {
   "cell_type": "code",
   "execution_count": 6,
   "id": "26f3d46d",
   "metadata": {},
   "outputs": [],
   "source": [
    "# Node function to handle the START state\n",
    "def chatbot(state: state) -> str:\n",
    "    # this function will be called when the graph reaches the END state\n",
    "    # it will return the messages stored in the state as a single string\n",
    "    return {\"messages\":[llm.invoke(state[\"messages\"])]}"
   ]
  },
  {
   "cell_type": "code",
   "execution_count": 7,
   "id": "88be5233",
   "metadata": {},
   "outputs": [
    {
     "data": {
      "text/plain": [
       "<langgraph.graph.state.StateGraph at 0x1af94f3af70>"
      ]
     },
     "execution_count": 7,
     "metadata": {},
     "output_type": "execute_result"
    }
   ],
   "source": [
    "graph_builder"
   ]
  },
  {
   "cell_type": "code",
   "execution_count": 8,
   "id": "c30dbfc5",
   "metadata": {},
   "outputs": [],
   "source": [
    "# Add the START node to the graph\n",
    "graph_builder.add_node(\n",
    "    \"llmchatbot\",\n",
    "    chatbot)\n",
    "# add the edge from START to the llmchatbot node\n",
    "# and from the llmchatbot node to the END state\n",
    "graph_builder.add_edge(START, \"llmchatbot\")\n",
    "graph_builder.add_edge(\"llmchatbot\", END)\n",
    "# Create the graph or compile the graph\n",
    "graph = graph_builder.compile()"
   ]
  },
  {
   "cell_type": "code",
   "execution_count": 9,
   "id": "6985cf05",
   "metadata": {},
   "outputs": [
    {
     "data": {
      "image/png": "[encoded data removed]",
      "text/plain": [
       "<IPython.core.display.Image object>"
      ]
     },
     "metadata": {},
     "output_type": "display_data"
    }
   ],
   "source": [
    "#Visualize the graph\n",
    "from IPython.display import Image, display\n",
    "\n",
    "try:\n",
    "    display(Image(graph.get_graph().draw_mermaid_png()))\n",
    "except Exception:\n",
    "    pass"
   ]
  },
  {
   "cell_type": "code",
   "execution_count": 10,
   "id": "ffd390f2",
   "metadata": {},
   "outputs": [],
   "source": [
    "response = graph.invoke({\"messages\": [\"Hello, how are you?\"]})"
   ]
  },
  {
   "cell_type": "code",
   "execution_count": 11,
   "id": "e7aa8501",
   "metadata": {},
   "outputs": [
    {
     "data": {
      "text/plain": [
       "AIMessage(content=\"I'm just a language model, I don't have emotions or feelings like humans do, but I'm functioning properly and ready to assist you with any questions or tasks you may have! It's great to chat with you. Is there something specific you'd like to talk about or ask?\", additional_kwargs={}, response_metadata={'token_usage': {'completion_tokens': 59, 'prompt_tokens': 16, 'total_tokens': 75, 'completion_time': 0.120223102, 'prompt_time': 0.008017593, 'queue_time': 0.379037988, 'total_time': 0.128240695}, 'model_name': 'llama3-8b-8192', 'system_fingerprint': 'fp_8b7c3a83f7', 'finish_reason': 'stop', 'logprobs': None}, id='run--15f3db40-c19c-43f9-87e1-b256076f6e8f-0', usage_metadata={'input_tokens': 16, 'output_tokens': 59, 'total_tokens': 75})"
      ]
     },
     "execution_count": 11,
     "metadata": {},
     "output_type": "execute_result"
    }
   ],
   "source": [
    "response['messages'][-1]  # Get the last message from the response\n",
    "# This will return the response from the LLM based on the input message"
   ]
  },
  {
   "cell_type": "code",
   "execution_count": 12,
   "id": "d9cba12a",
   "metadata": {},
   "outputs": [
    {
     "data": {
      "text/plain": [
       "\"I'm just a language model, I don't have emotions or feelings like humans do, but I'm functioning properly and ready to assist you with any questions or tasks you may have! It's great to chat with you. Is there something specific you'd like to talk about or ask?\""
      ]
     },
     "execution_count": 12,
     "metadata": {},
     "output_type": "execute_result"
    }
   ],
   "source": [
    "response['messages'][-1].content  # Get the content of the last message\n",
    "# This will return the text content of the response from the LLM"
   ]
  },
  {
   "cell_type": "code",
   "execution_count": 13,
   "id": "b4ddb1cb",
   "metadata": {},
   "outputs": [
    {
     "data": {
      "text/plain": [
       "[HumanMessage(content='Hello, how are you?', additional_kwargs={}, response_metadata={}, id='d3a141b7-0140-4977-9718-2b09fb55297c'),\n",
       " AIMessage(content=\"I'm just a language model, I don't have emotions or feelings like humans do, but I'm functioning properly and ready to assist you with any questions or tasks you may have! It's great to chat with you. Is there something specific you'd like to talk about or ask?\", additional_kwargs={}, response_metadata={'token_usage': {'completion_tokens': 59, 'prompt_tokens': 16, 'total_tokens': 75, 'completion_time': 0.120223102, 'prompt_time': 0.008017593, 'queue_time': 0.379037988, 'total_time': 0.128240695}, 'model_name': 'llama3-8b-8192', 'system_fingerprint': 'fp_8b7c3a83f7', 'finish_reason': 'stop', 'logprobs': None}, id='run--15f3db40-c19c-43f9-87e1-b256076f6e8f-0', usage_metadata={'input_tokens': 16, 'output_tokens': 59, 'total_tokens': 75})]"
      ]
     },
     "execution_count": 13,
     "metadata": {},
     "output_type": "execute_result"
    }
   ],
   "source": [
    "response['messages']  # Get the role of the last message"
   ]
  },
  {
   "cell_type": "code",
   "execution_count": 14,
   "id": "0dabf942",
   "metadata": {},
   "outputs": [
    {
     "name": "stdout",
     "output_type": "stream",
     "text": [
      "Hi! I'm just a language model, so I don't have feelings or emotions like humans do, but I'm functioning properly and ready to help with any questions or tasks you have! How can I assist you today?\n"
     ]
    }
   ],
   "source": [
    "for event in graph.stream({\"messages\":'Hi, How are you?'}):\n",
    "    for value in event.values():\n",
    "        print(value['messages'][-1].content)\n",
    "# This will print the content of the last message in each event as the stream progresses"
   ]
  },
  {
   "cell_type": "markdown",
   "id": "9fd5b173",
   "metadata": {},
   "source": [
    "### Chatbot with Tool"
   ]
  },
  {
   "cell_type": "markdown",
   "id": "72123b14",
   "metadata": {},
   "source": [
    "___Start___\n",
    "     |\n",
    "     |\n",
    "tool_calling_llm (Node) (LLM with binding tools)\n",
    "     |\n",
    "     |\n",
    "|            |\n",
    "|            |\n",
    "|        Tools (tavily API (internet search))\n",
    "|               (Custom tools)\n",
    "|            |\n",
    "  ___END___"
   ]
  },
  {
   "cell_type": "code",
   "execution_count": 15,
   "id": "d065e509",
   "metadata": {},
   "outputs": [],
   "source": [
    "from langchain_tavily import TavilySearch"
   ]
  },
  {
   "cell_type": "code",
   "execution_count": 16,
   "id": "cbede3d4",
   "metadata": {},
   "outputs": [],
   "source": [
    "tool = TavilySearch(max_results=2)\n",
    "# tool.invoke(\"What is the capital of France?\")"
   ]
  },
  {
   "cell_type": "code",
   "execution_count": 17,
   "id": "96c36382",
   "metadata": {},
   "outputs": [],
   "source": [
    "#custom function\n",
    "def MultiplyXbyY(x: int,y:int) -> int:\n",
    "    \"\"\"_summary_\n",
    "\n",
    "    Args:\n",
    "        x (int): _description_\n",
    "\n",
    "    Returns:\n",
    "        int: _description_\n",
    "    \"\"\"\n",
    "    return x * y"
   ]
  },
  {
   "cell_type": "code",
   "execution_count": 18,
   "id": "43da0d83",
   "metadata": {},
   "outputs": [],
   "source": [
    "tools = [tool, MultiplyXbyY] \n",
    "# List of tools to be used in the graph"
   ]
  },
  {
   "cell_type": "code",
   "execution_count": 19,
   "id": "ce426ca6",
   "metadata": {},
   "outputs": [],
   "source": [
    "llm_with_tools = llm.bind_tools(tools)\n",
    "# Bind the tools to the LLM\n",
    "# This will allow the LLM to use the tools in its responses"
   ]
  },
  {
   "cell_type": "code",
   "execution_count": 20,
   "id": "56a01cbc",
   "metadata": {},
   "outputs": [],
   "source": [
    "## stategraph with tools\n",
    "from langgraph.graph import StateGraph, START, END\n",
    "from langgraph.prebuilt import ToolNode, tools_condition"
   ]
  },
  {
   "cell_type": "code",
   "execution_count": 21,
   "id": "7e5f66b9",
   "metadata": {},
   "outputs": [
    {
     "data": {
      "text/plain": [
       "<langgraph.graph.state.StateGraph at 0x1af95988550>"
      ]
     },
     "execution_count": 21,
     "metadata": {},
     "output_type": "execute_result"
    }
   ],
   "source": [
    "##Node definition\n",
    "def tool_calling_llm(state: state) -> str:\n",
    "    \"\"\"_summary_\n",
    "\n",
    "    Args:\n",
    "        state (state): _description_\n",
    "\n",
    "    Returns:\n",
    "        str: _description_\n",
    "    \"\"\"\n",
    "    return {\"messages\": [llm_with_tools.invoke(state[\"messages\"])]}\n",
    "\n",
    "\n",
    "builder = StateGraph(state)\n",
    "builder.add_node(\n",
    "    \"tool_calling_llm\",\n",
    "    tool_calling_llm \n",
    ")\n",
    "builder.add_node(\n",
    "    \"tools\",\n",
    "    ToolNode(tools)\n",
    ")\n",
    "\n",
    "#add the edges to the graph\n",
    "builder.add_edge(START, \"tool_calling_llm\")\n",
    "builder.add_conditional_edges(\"tool_calling_llm\", tools_condition)\n",
    "# if the tool calling LLM returns a tool call, it will go to the tools node\n",
    "# if the LLM does not return a tool call, it will go to the END state\n",
    "builder.add_edge(\"tools\", END)"
   ]
  },
  {
   "cell_type": "code",
   "execution_count": 22,
   "id": "9f9b820e",
   "metadata": {},
   "outputs": [],
   "source": [
    "#compile the graph\n",
    "graph = builder.compile()"
   ]
  },
  {
   "cell_type": "code",
   "execution_count": 23,
   "id": "e07495c4",
   "metadata": {},
   "outputs": [
    {
     "data": {
      "image/png": "[encoded data removed]",
      "text/plain": [
       "<IPython.core.display.Image object>"
      ]
     },
     "metadata": {},
     "output_type": "display_data"
    }
   ],
   "source": [
    "display(Image(graph.get_graph().draw_mermaid_png()))"
   ]
  },
  {
   "cell_type": "code",
   "execution_count": 24,
   "id": "ab61bc9c",
   "metadata": {},
   "outputs": [],
   "source": [
    "response = graph.invoke({\"messages\": [\"What is the recent AI News?\"]})"
   ]
  },
  {
   "cell_type": "code",
   "execution_count": 25,
   "id": "a76c5216",
   "metadata": {},
   "outputs": [
    {
     "data": {
      "text/plain": [
       "{'messages': [HumanMessage(content='What is the recent AI News?', additional_kwargs={}, response_metadata={}, id='44249154-ae84-43da-b30a-48852853f32e'),\n",
       "  AIMessage(content='', additional_kwargs={'tool_calls': [{'id': 'wzm902m9h', 'function': {'arguments': '{\"query\":\"recent AI news\",\"search_depth\":\"advanced\",\"time_range\":\"week\"}', 'name': 'tavily_search'}, 'type': 'function'}]}, response_metadata={'token_usage': {'completion_tokens': 86, 'prompt_tokens': 2188, 'total_tokens': 2274, 'completion_time': 0.143292542, 'prompt_time': 0.254151126, 'queue_time': 0.273942492, 'total_time': 0.397443668}, 'model_name': 'llama3-8b-8192', 'system_fingerprint': 'fp_2717d04279', 'finish_reason': 'tool_calls', 'logprobs': None}, id='run--e95611fa-77b0-4b73-925f-d0b80e77b46b-0', tool_calls=[{'name': 'tavily_search', 'args': {'query': 'recent AI news', 'search_depth': 'advanced', 'time_range': 'week'}, 'id': 'wzm902m9h', 'type': 'tool_call'}], usage_metadata={'input_tokens': 2188, 'output_tokens': 86, 'total_tokens': 2274}),\n",
       "  ToolMessage(content='{\"query\": \"recent AI news\", \"follow_up_questions\": null, \"answer\": null, \"images\": [], \"results\": [{\"title\": \"AI News | Latest Headlines and Developments | Reuters\", \"url\": \"https://www.reuters.com/technology/artificial-intelligence/\", \"content\": \"This was originally published in the Artificial Intelligencer newsletter, which is issued every Wednesday. Sign up here to learn about the latest breakthroughs in AI and tech.\", \"score\": 0.98589, \"raw_content\": null}, {\"title\": \"Top AI Breakthroughs of June 2025: Transforming Technology for the ...\", \"url\": \"https://nriglobe.com/tech-news/top-ai-breakthroughs-of-june-2025-transforming-technology-for-the-global-community/\", \"content\": \"Top AI Breakthroughs of June 2025: Transforming Technology for the Global Community June 2025 has been a landmark week for artificial intelligence, with innovations that promise to reshape industries, empower creators, and advance scientific discovery. From Google\\'s developer tools to groundbreaking genomic models, these advancements hold immense potential for the global Indian community\", \"score\": 0.98566, \"raw_content\": null}], \"response_time\": 3.74}', name='tavily_search', id='f50c1485-59a7-4cdf-9976-59a508f2b516', tool_call_id='wzm902m9h')]}"
      ]
     },
     "execution_count": 25,
     "metadata": {},
     "output_type": "execute_result"
    }
   ],
   "source": [
    "response"
   ]
  },
  {
   "cell_type": "code",
   "execution_count": 26,
   "id": "d58d7272",
   "metadata": {},
   "outputs": [
    {
     "data": {
      "text/plain": [
       "'{\"query\": \"recent AI news\", \"follow_up_questions\": null, \"answer\": null, \"images\": [], \"results\": [{\"title\": \"AI News | Latest Headlines and Developments | Reuters\", \"url\": \"https://www.reuters.com/technology/artificial-intelligence/\", \"content\": \"This was originally published in the Artificial Intelligencer newsletter, which is issued every Wednesday. Sign up here to learn about the latest breakthroughs in AI and tech.\", \"score\": 0.98589, \"raw_content\": null}, {\"title\": \"Top AI Breakthroughs of June 2025: Transforming Technology for the ...\", \"url\": \"https://nriglobe.com/tech-news/top-ai-breakthroughs-of-june-2025-transforming-technology-for-the-global-community/\", \"content\": \"Top AI Breakthroughs of June 2025: Transforming Technology for the Global Community June 2025 has been a landmark week for artificial intelligence, with innovations that promise to reshape industries, empower creators, and advance scientific discovery. From Google\\'s developer tools to groundbreaking genomic models, these advancements hold immense potential for the global Indian community\", \"score\": 0.98566, \"raw_content\": null}], \"response_time\": 3.74}'"
      ]
     },
     "execution_count": 26,
     "metadata": {},
     "output_type": "execute_result"
    }
   ],
   "source": [
    "response['messages'][-1].content\n",
    "# Get the content of the last message in the response"
   ]
  },
  {
   "cell_type": "code",
   "execution_count": 27,
   "id": "1368720e",
   "metadata": {},
   "outputs": [
    {
     "name": "stdout",
     "output_type": "stream",
     "text": [
      "================================\u001b[1m Human Message \u001b[0m=================================\n",
      "\n",
      "What is the recent AI News?\n",
      "==================================\u001b[1m Ai Message \u001b[0m==================================\n",
      "Tool Calls:\n",
      "  tavily_search (wzm902m9h)\n",
      " Call ID: wzm902m9h\n",
      "  Args:\n",
      "    query: recent AI news\n",
      "    search_depth: advanced\n",
      "    time_range: week\n",
      "=================================\u001b[1m Tool Message \u001b[0m=================================\n",
      "Name: tavily_search\n",
      "\n",
      "{\"query\": \"recent AI news\", \"follow_up_questions\": null, \"answer\": null, \"images\": [], \"results\": [{\"title\": \"AI News | Latest Headlines and Developments | Reuters\", \"url\": \"https://www.reuters.com/technology/artificial-intelligence/\", \"content\": \"This was originally published in the Artificial Intelligencer newsletter, which is issued every Wednesday. Sign up here to learn about the latest breakthroughs in AI and tech.\", \"score\": 0.98589, \"raw_content\": null}, {\"title\": \"Top AI Breakthroughs of June 2025: Transforming Technology for the ...\", \"url\": \"https://nriglobe.com/tech-news/top-ai-breakthroughs-of-june-2025-transforming-technology-for-the-global-community/\", \"content\": \"Top AI Breakthroughs of June 2025: Transforming Technology for the Global Community June 2025 has been a landmark week for artificial intelligence, with innovations that promise to reshape industries, empower creators, and advance scientific discovery. From Google's developer tools to groundbreaking genomic models, these advancements hold immense potential for the global Indian community\", \"score\": 0.98566, \"raw_content\": null}], \"response_time\": 3.74}\n"
     ]
    }
   ],
   "source": [
    "for message in response['messages']:\n",
    "    message.pretty_print()"
   ]
  },
  {
   "cell_type": "code",
   "execution_count": 28,
   "id": "e2b000cc",
   "metadata": {},
   "outputs": [],
   "source": [
    "response = graph.invoke({\"messages\": [\"What is the 10 multiply by 2?\"]})"
   ]
  },
  {
   "cell_type": "code",
   "execution_count": 29,
   "id": "2b4e3cfd",
   "metadata": {},
   "outputs": [
    {
     "name": "stdout",
     "output_type": "stream",
     "text": [
      "================================\u001b[1m Human Message \u001b[0m=================================\n",
      "\n",
      "What is the 10 multiply by 2?\n",
      "==================================\u001b[1m Ai Message \u001b[0m==================================\n",
      "Tool Calls:\n",
      "  MultiplyXbyY (3xw8swk80)\n",
      " Call ID: 3xw8swk80\n",
      "  Args:\n",
      "    x: 10\n",
      "    y: 2\n",
      "=================================\u001b[1m Tool Message \u001b[0m=================================\n",
      "Name: MultiplyXbyY\n",
      "\n",
      "20\n"
     ]
    }
   ],
   "source": [
    "for message in response['messages']:\n",
    "    message.pretty_print()"
   ]
  },
  {
   "cell_type": "code",
   "execution_count": 34,
   "id": "bc6eba4f",
   "metadata": {},
   "outputs": [],
   "source": [
    "response = graph.invoke({\"messages\": [\"What is the recent news about AI and then tell me what is 10 multiply by 5 ?\"]})"
   ]
  },
  {
   "cell_type": "code",
   "execution_count": 35,
   "id": "eee04a1a",
   "metadata": {},
   "outputs": [
    {
     "name": "stdout",
     "output_type": "stream",
     "text": [
      "================================\u001b[1m Human Message \u001b[0m=================================\n",
      "\n",
      "What is the recent news about AI and then tell me what is 10 multiply by 5 ?\n",
      "==================================\u001b[1m Ai Message \u001b[0m==================================\n",
      "Tool Calls:\n",
      "  tavily_search (hbbwvz26s)\n",
      " Call ID: hbbwvz26s\n",
      "  Args:\n",
      "    query: recent news about AI\n",
      "    search_depth: advanced\n",
      "    time_range: day\n",
      "    topic: news\n",
      "  MultiplyXbyY (t2e1qwr5t)\n",
      " Call ID: t2e1qwr5t\n",
      "  Args:\n",
      "    x: 10\n",
      "    y: 5\n",
      "=================================\u001b[1m Tool Message \u001b[0m=================================\n",
      "Name: tavily_search\n",
      "\n",
      "{\"query\": \"recent news about AI\", \"follow_up_questions\": null, \"answer\": null, \"images\": [], \"results\": [{\"url\": \"https://opentools.ai/news/metas-ai-talent-grab-openai-researchers-jump-ship-for-superintelligence-ambitions\", \"title\": \"Meta's AI Talent Grab: OpenAI Researchers Jump Ship for Superintelligence Ambitions - OpenTools\", \"score\": 0.7905832529067993, \"published_date\": \"Sun, 29 Jun 2025 11:36:00 GMT\", \"content\": \"Meta's AI Talent Grab: OpenAI Researchers Jump Ship for Superintelligence Ambitions | AI News 3.   metas-ai-talent-grab-openai-researchers-jump-ship-for-superintelligence-ambitions Meta's AI Talent Grab: OpenAI Researchers Jump Ship for Superintelligence Ambitions Four key OpenAI researchers, involved in the development of models like GPT-4, have joined Meta's superintelligence team, highlighting Meta's aggressive tactics in securing top AI minds. Image 4: Banner for Meta's AI Talent Grab: OpenAI Researchers Jump Ship for Superintelligence Ambitions The departure of four key OpenAI researchers to Meta's superintelligence team marks a significant moment in the tech industry's ongoing AI talent war. The competition for top talent in the AI industry is reaching new heights, with companies like Meta offering staggering compensation packages to attract researchers from competitors such as OpenAI.\", \"raw_content\": null}, {\"url\": \"https://news.faharas.net/345237/meta-reportedly-hires-four-more/\", \"title\": \"Meta Strengthens AI Team with Four New OpenAI Researchers for Groundbreaking Innovations - Faharas News\", \"score\": 0.7898861169815063, \"published_date\": \"Sat, 28 Jun 2025 20:04:17 GMT\", \"content\": \"Meta Strengthens AI Team with Four New OpenAI Researchers for Groundbreaking Innovations - Faharas News Meta Strengthens AI Team with Four New OpenAI Researchers for Groundbreaking Innovations \\\"Meta Boosts AI Team with Four New OpenAI Researchers\\\" Meta has hired several researchers from OpenAI, including Trapit Bansal and four others, amid challenges with its Llama 4 AI models. Image 7: Meta reportedly hires four more researchers from OpenAI *   Image 17: Meta introduces advertising to WhatsApp in push for new revenues - Financial Times  *   Image 34: Unveiling the Trading Desks That Conquered 12 Days of Oil Market Turmoil www.bloomberg.com  *   Image 38: Lauren Sánchez Unveils Shocking Celebrity Inspiration Behind Her Stunning Wedding Dress people.com  Image 39: Faharas News\", \"raw_content\": null}], \"response_time\": 4.04}\n",
      "=================================\u001b[1m Tool Message \u001b[0m=================================\n",
      "Name: MultiplyXbyY\n",
      "\n",
      "50\n"
     ]
    }
   ],
   "source": [
    "for message in response['messages']:\n",
    "    message.pretty_print()"
   ]
  },
  {
   "cell_type": "code",
   "execution_count": 36,
   "id": "18b94f7f",
   "metadata": {},
   "outputs": [],
   "source": [
    "response = graph.invoke({\"messages\": [\"What is the capital of France?\"]})"
   ]
  },
  {
   "cell_type": "code",
   "execution_count": 37,
   "id": "30714cfa",
   "metadata": {},
   "outputs": [
    {
     "name": "stdout",
     "output_type": "stream",
     "text": [
      "================================\u001b[1m Human Message \u001b[0m=================================\n",
      "\n",
      "What is the capital of France?\n",
      "==================================\u001b[1m Ai Message \u001b[0m==================================\n",
      "Tool Calls:\n",
      "  tavily_search (8e98xarf1)\n",
      " Call ID: 8e98xarf1\n",
      "  Args:\n",
      "    query: What is the capital of France?\n",
      "=================================\u001b[1m Tool Message \u001b[0m=================================\n",
      "Name: tavily_search\n",
      "\n",
      "{\"query\": \"What is the capital of France?\", \"follow_up_questions\": null, \"answer\": null, \"images\": [], \"results\": [{\"title\": \"What is the Capital of France? - WorldAtlas\", \"url\": \"https://www.worldatlas.com/articles/what-is-the-capital-of-france.html\", \"content\": \"Paris is the capital city of France. Contrary to popular belief, the name of the city did not come from the Paris in Greek myths. Located in the north of Central France, the city is relatively flat with the highest point being 427 feet (which is Montmartre) above sea level while the lowest point is 115 feet above the sea level. With a GDP of approximately $850 billion, Paris is the country’s leader for economic activities. Tourists are attracted to Paris because of the rich history the city has including its monuments and sights. As the capital city of France, the city plays host to the national government of France. How Many Countries Are There In Africa? [x] Countries  All Countries\", \"score\": 0.9170729, \"raw_content\": null}, {\"title\": \"Paris - Wikipedia\", \"url\": \"https://en.wikipedia.org/wiki/Paris\", \"content\": \"Paris (French pronunciation: [paʁi] ⓘ) is the capital and largest city of France. With an estimated population of 2,048,472 residents in January 2025 [3] in an area of more than 105 km 2 (41 sq mi), [4] Paris is the fourth-most populous city in the European Union and the 30th most densely populated city in the world in 2022. [5] Since the 17th century, Paris has been one of the world's\", \"score\": 0.8896154, \"raw_content\": null}], \"response_time\": 2.02}\n"
     ]
    }
   ],
   "source": [
    "for message in response['messages']:\n",
    "    message.pretty_print()"
   ]
  },
  {
   "cell_type": "markdown",
   "id": "3a97e2e0",
   "metadata": {},
   "source": [
    "## ReACT Agent Architecture"
   ]
  },
  {
   "cell_type": "markdown",
   "id": "56476eb9",
   "metadata": {},
   "source": [
    "1. Action - whenever input comes to LLM, LLM will make a tool call\n",
    "2. Observe - When output comes from Tool Node, LLM observe, whether it should make tool call or go to the end node\n",
    "3. Reason - The LLM analyzes the current task, the history of previous actions and observations, and the overall goal.This is analogous to a human thinking through a problem before acting."
   ]
  },
  {
   "cell_type": "code",
   "execution_count": null,
   "id": "689f9e75",
   "metadata": {},
   "outputs": [],
   "source": [
    "from langgraph.graph import StateGraph, START, END\n",
    "from langgraph.prebuilt import ToolNode, tools_condition"
   ]
  },
  {
   "cell_type": "code",
   "execution_count": null,
   "id": "d5fe7cd6",
   "metadata": {},
   "outputs": [],
   "source": [
    "builder = StateGraph(state)\n",
    "builder.add_node(\n",
    "    \"tool_calling_llm\",\n",
    "    tool_calling_llm \n",
    ")\n",
    "builder.add_node(\n",
    "    \"tools\",\n",
    "    ToolNode(tools)\n",
    ")\n",
    "# add the edges to the graph\n",
    "builder.add_edge(START, \"tool_calling_llm\")\n",
    "builder.add_conditional_edges(\"tool_calling_llm\", tools_condition)\n",
    "# if the tool calling LLM returns a tool call, it will go to the tools node\n",
    "builder.add_edge(\"tools\", \"tool_calling_llm\")\n",
    "#LLM will call the tools node again if it returns a tool call\n",
    "graph = builder.compile()"
   ]
  },
  {
   "cell_type": "code",
   "execution_count": null,
   "id": "c552fd3b",
   "metadata": {},
   "outputs": [],
   "source": [
    "display(Image(graph.get_graph().draw_mermaid_png()))"
   ]
  },
  {
   "cell_type": "code",
   "execution_count": null,
   "id": "aead38ae",
   "metadata": {},
   "outputs": [],
   "source": [
    "response = graph.invoke({\"messages\": [\"What is the recent AI News and then what is 10 multiply by 5 ?\"]})\n",
    "for message in response['messages']:\n",
    "    message.pretty_print()"
   ]
  },
  {
   "cell_type": "code",
   "execution_count": null,
   "id": "c2a4d1b6",
   "metadata": {},
   "outputs": [],
   "source": []
  }
 ],
 "metadata": {
  "kernelspec": {
   "display_name": "agentic_ai",
   "language": "python",
   "name": "python3"
  },
  "language_info": {
   "codemirror_mode": {
    "name": "ipython",
    "version": 3
   },
   "file_extension": ".py",
   "mimetype": "text/x-python",
   "name": "python",
   "nbconvert_exporter": "python",
   "pygments_lexer": "ipython3",
   "version": "3.9.12"
  }
 },
 "nbformat": 4,
 "nbformat_minor": 5
}
