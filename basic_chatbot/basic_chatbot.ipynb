{
 "cells": [
  {
   "cell_type": "markdown",
   "id": "66499ffb",
   "metadata": {},
   "source": [
    "### Basic Chatbot with langgraph(Graph API)"
   ]
  },
  {
   "cell_type": "markdown",
   "id": "435511f1",
   "metadata": {},
   "source": [
    "#### Components of langgraph\n",
    "- Edge\n",
    "- Node\n",
    "- state (this part will store the variables that will be utilised in some of the edges and nodes)\n",
    "\n",
    "Yt videos --> Blog\n",
    "\n",
    "- workflow\n",
    "1. Yt vides --> Transcript\n",
    "2. Transcript --> title\n",
    "3. Title,Transcript --> Content\n"
   ]
  },
  {
   "cell_type": "markdown",
   "id": "befaf363",
   "metadata": {},
   "source": [
    "workflow graph:\n",
    "\n",
    "            start(input as YT url)\n",
    "              |\n",
    "              |  - Edge (genreating transcript from Youtube URl using langchains YTloader)\n",
    "         \n",
    "         Transcript generator (node)\n",
    "           \n",
    "              |\n",
    "              |  - transcript as variable traversing through edge\n",
    "        \n",
    "        Title Generator (Generates title based on Transcript Provided)\n",
    "           \n",
    "              |\n",
    "              | - Transript and title traversing through this edge\n",
    "        \n",
    "        Content Generator (Generates content based on Transcript and Title Provided)\n",
    "\n",
    "above diagram is StateGraph"
   ]
  },
  {
   "cell_type": "code",
   "execution_count": 65,
   "id": "f1e28392",
   "metadata": {},
   "outputs": [],
   "source": [
    "from typing import Annotated\n",
    "from typing_extensions import TypedDict\n",
    "from langgraph.graph import StateGraph,START,END\n",
    "from langgraph.graph.message import add_messages"
   ]
  },
  {
   "cell_type": "code",
   "execution_count": 66,
   "id": "43414287",
   "metadata": {},
   "outputs": [],
   "source": [
    "class state(TypedDict):\n",
    "    #messages have the format of a list of strings. the 'add_messages' function will\n",
    "    #automatically add the messages to the state. in the annotation,defines how the \n",
    "    # messages are stored in the state.\n",
    "    messages: Annotated[list[str], add_messages]\n",
    "    # in this case, it appends the messages to the list, rather than replacing it.\n",
    "    # the 'messages' key is a list of strings, which will be used to store the messages.\n",
    "graph_builder = StateGraph(state)"
   ]
  },
  {
   "cell_type": "code",
   "execution_count": 67,
   "id": "bf8fe2a7",
   "metadata": {},
   "outputs": [
    {
     "data": {
      "text/plain": [
       "True"
      ]
     },
     "execution_count": 67,
     "metadata": {},
     "output_type": "execute_result"
    }
   ],
   "source": [
    "import os\n",
    "from dotenv import load_dotenv\n",
    "load_dotenv()"
   ]
  },
  {
   "cell_type": "code",
   "execution_count": 68,
   "id": "e1813ddd",
   "metadata": {},
   "outputs": [],
   "source": [
    "from langchain_groq import ChatGroq\n",
    "from langchain.chat_models import init_chat_model"
   ]
  },
  {
   "cell_type": "code",
   "execution_count": 69,
   "id": "6a2f272b",
   "metadata": {},
   "outputs": [],
   "source": [
    "llm = ChatGroq(model = \"llama3-8b-8192\" )"
   ]
  },
  {
   "cell_type": "code",
   "execution_count": 70,
   "id": "26f3d46d",
   "metadata": {},
   "outputs": [],
   "source": [
    "# Node function to handle the START state\n",
    "def chatbot(state: state) -> str:\n",
    "    # this function will be called when the graph reaches the END state\n",
    "    # it will return the messages stored in the state as a single string\n",
    "    return {\"messages\":[llm.invoke(state[\"messages\"])]}"
   ]
  },
  {
   "cell_type": "code",
   "execution_count": 71,
   "id": "88be5233",
   "metadata": {},
   "outputs": [
    {
     "data": {
      "text/plain": [
       "<langgraph.graph.state.StateGraph at 0x1af96b1ba60>"
      ]
     },
     "execution_count": 71,
     "metadata": {},
     "output_type": "execute_result"
    }
   ],
   "source": [
    "graph_builder"
   ]
  },
  {
   "cell_type": "code",
   "execution_count": 72,
   "id": "c30dbfc5",
   "metadata": {},
   "outputs": [],
   "source": [
    "# Add the START node to the graph\n",
    "graph_builder.add_node(\n",
    "    \"llmchatbot\",\n",
    "    chatbot)\n",
    "# add the edge from START to the llmchatbot node\n",
    "# and from the llmchatbot node to the END state\n",
    "graph_builder.add_edge(START, \"llmchatbot\")\n",
    "graph_builder.add_edge(\"llmchatbot\", END)\n",
    "# Create the graph or compile the graph\n",
    "graph = graph_builder.compile()"
   ]
  },
  {
   "cell_type": "code",
   "execution_count": 73,
   "id": "6985cf05",
   "metadata": {},
   "outputs": [
    {
     "data": {
      "image/png": "[encoded data removed]",
      "text/plain": [
       "<IPython.core.display.Image object>"
      ]
     },
     "metadata": {},
     "output_type": "display_data"
    }
   ],
   "source": [
    "#Visualize the graph\n",
    "from IPython.display import Image, display\n",
    "\n",
    "try:\n",
    "    display(Image(graph.get_graph().draw_mermaid_png()))\n",
    "except Exception:\n",
    "    pass"
   ]
  },
  {
   "cell_type": "code",
   "execution_count": 74,
   "id": "ffd390f2",
   "metadata": {},
   "outputs": [],
   "source": [
    "response = graph.invoke({\"messages\": [\"Hello, how are you?\"]})"
   ]
  },
  {
   "cell_type": "code",
   "execution_count": 75,
   "id": "e7aa8501",
   "metadata": {},
   "outputs": [
    {
     "data": {
      "text/plain": [
       "AIMessage(content=\"I'm just a language model, I don't have emotions or feelings like humans do, so I don't have a sense of well-being or not. However, I'm functioning properly and ready to assist you with any questions or tasks you may have!\", additional_kwargs={}, response_metadata={'token_usage': {'completion_tokens': 52, 'prompt_tokens': 16, 'total_tokens': 68, 'completion_time': 0.096665148, 'prompt_time': 0.004130708, 'queue_time': 0.271547621, 'total_time': 0.100795856}, 'model_name': 'llama3-8b-8192', 'system_fingerprint': 'fp_8dc6ecaf8e', 'finish_reason': 'stop', 'logprobs': None}, id='run--ff97b00d-a07f-4b1b-bdb1-59b41dcd1f49-0', usage_metadata={'input_tokens': 16, 'output_tokens': 52, 'total_tokens': 68})"
      ]
     },
     "execution_count": 75,
     "metadata": {},
     "output_type": "execute_result"
    }
   ],
   "source": [
    "response['messages'][-1]  # Get the last message from the response\n",
    "# This will return the response from the LLM based on the input message"
   ]
  },
  {
   "cell_type": "code",
   "execution_count": 76,
   "id": "d9cba12a",
   "metadata": {},
   "outputs": [
    {
     "data": {
      "text/plain": [
       "\"I'm just a language model, I don't have emotions or feelings like humans do, so I don't have a sense of well-being or not. However, I'm functioning properly and ready to assist you with any questions or tasks you may have!\""
      ]
     },
     "execution_count": 76,
     "metadata": {},
     "output_type": "execute_result"
    }
   ],
   "source": [
    "response['messages'][-1].content  # Get the content of the last message\n",
    "# This will return the text content of the response from the LLM"
   ]
  },
  {
   "cell_type": "code",
   "execution_count": 77,
   "id": "b4ddb1cb",
   "metadata": {},
   "outputs": [
    {
     "data": {
      "text/plain": [
       "[HumanMessage(content='Hello, how are you?', additional_kwargs={}, response_metadata={}, id='d03b135b-acde-433f-8e37-70c3b268f055'),\n",
       " AIMessage(content=\"I'm just a language model, I don't have emotions or feelings like humans do, so I don't have a sense of well-being or not. However, I'm functioning properly and ready to assist you with any questions or tasks you may have!\", additional_kwargs={}, response_metadata={'token_usage': {'completion_tokens': 52, 'prompt_tokens': 16, 'total_tokens': 68, 'completion_time': 0.096665148, 'prompt_time': 0.004130708, 'queue_time': 0.271547621, 'total_time': 0.100795856}, 'model_name': 'llama3-8b-8192', 'system_fingerprint': 'fp_8dc6ecaf8e', 'finish_reason': 'stop', 'logprobs': None}, id='run--ff97b00d-a07f-4b1b-bdb1-59b41dcd1f49-0', usage_metadata={'input_tokens': 16, 'output_tokens': 52, 'total_tokens': 68})]"
      ]
     },
     "execution_count": 77,
     "metadata": {},
     "output_type": "execute_result"
    }
   ],
   "source": [
    "response['messages']  # Get the role of the last message"
   ]
  },
  {
   "cell_type": "code",
   "execution_count": 78,
   "id": "0dabf942",
   "metadata": {},
   "outputs": [
    {
     "name": "stdout",
     "output_type": "stream",
     "text": [
      "I'm just a language model, I don't have emotions or feelings like humans do. However, I'm functioning properly and ready to assist you with any questions or tasks you may have!\n"
     ]
    }
   ],
   "source": [
    "for event in graph.stream({\"messages\":'Hi, How are you?'}):\n",
    "    for value in event.values():\n",
    "        print(value['messages'][-1].content)\n",
    "# This will print the content of the last message in each event as the stream progresses"
   ]
  },
  {
   "cell_type": "markdown",
   "id": "9fd5b173",
   "metadata": {},
   "source": [
    "### Chatbot with Tool"
   ]
  },
  {
   "cell_type": "markdown",
   "id": "72123b14",
   "metadata": {},
   "source": [
    "___Start___\n",
    "     |\n",
    "     |\n",
    "tool_calling_llm (Node) (LLM with binding tools)\n",
    "     |\n",
    "     |\n",
    "|            |\n",
    "|            |\n",
    "|        Tools (tavily API (internet search))\n",
    "|               (Custom tools)\n",
    "|            |\n",
    "  ___END___"
   ]
  },
  {
   "cell_type": "code",
   "execution_count": 79,
   "id": "d065e509",
   "metadata": {},
   "outputs": [],
   "source": [
    "from langchain_tavily import TavilySearch"
   ]
  },
  {
   "cell_type": "code",
   "execution_count": 80,
   "id": "cbede3d4",
   "metadata": {},
   "outputs": [],
   "source": [
    "tool = TavilySearch(max_results=2)\n",
    "# tool.invoke(\"What is the capital of France?\")"
   ]
  },
  {
   "cell_type": "code",
   "execution_count": 81,
   "id": "96c36382",
   "metadata": {},
   "outputs": [],
   "source": [
    "#custom function\n",
    "def MultiplyXbyY(x: int,y:int) -> int:\n",
    "    \"\"\"_summary_\n",
    "\n",
    "    Args:\n",
    "        x (int): _description_\n",
    "\n",
    "    Returns:\n",
    "        int: _description_\n",
    "    \"\"\"\n",
    "    return x * y"
   ]
  },
  {
   "cell_type": "code",
   "execution_count": 82,
   "id": "43da0d83",
   "metadata": {},
   "outputs": [],
   "source": [
    "tools = [tool, MultiplyXbyY] \n",
    "# List of tools to be used in the graph"
   ]
  },
  {
   "cell_type": "code",
   "execution_count": 83,
   "id": "ce426ca6",
   "metadata": {},
   "outputs": [],
   "source": [
    "llm_with_tools = llm.bind_tools(tools)\n",
    "# Bind the tools to the LLM\n",
    "# This will allow the LLM to use the tools in its responses"
   ]
  },
  {
   "cell_type": "code",
   "execution_count": 84,
   "id": "56a01cbc",
   "metadata": {},
   "outputs": [],
   "source": [
    "## stategraph with tools\n",
    "from langgraph.graph import StateGraph, START, END\n",
    "from langgraph.prebuilt import ToolNode, tools_condition"
   ]
  },
  {
   "cell_type": "code",
   "execution_count": 85,
   "id": "7e5f66b9",
   "metadata": {},
   "outputs": [
    {
     "data": {
      "text/plain": [
       "<langgraph.graph.state.StateGraph at 0x1af97703580>"
      ]
     },
     "execution_count": 85,
     "metadata": {},
     "output_type": "execute_result"
    }
   ],
   "source": [
    "##Node definition\n",
    "def tool_calling_llm(state: state) -> str:\n",
    "    \"\"\"_summary_\n",
    "\n",
    "    Args:\n",
    "        state (state): _description_\n",
    "\n",
    "    Returns:\n",
    "        str: _description_\n",
    "    \"\"\"\n",
    "    return {\"messages\": [llm_with_tools.invoke(state[\"messages\"])]}\n",
    "\n",
    "\n",
    "builder = StateGraph(state)\n",
    "builder.add_node(\n",
    "    \"tool_calling_llm\",\n",
    "    tool_calling_llm \n",
    ")\n",
    "builder.add_node(\n",
    "    \"tools\",\n",
    "    ToolNode(tools)\n",
    ")\n",
    "\n",
    "#add the edges to the graph\n",
    "builder.add_edge(START, \"tool_calling_llm\")\n",
    "builder.add_conditional_edges(\"tool_calling_llm\", tools_condition)\n",
    "# if the tool calling LLM returns a tool call, it will go to the tools node\n",
    "# if the LLM does not return a tool call, it will go to the END state\n",
    "builder.add_edge(\"tools\", END)"
   ]
  },
  {
   "cell_type": "code",
   "execution_count": 86,
   "id": "9f9b820e",
   "metadata": {},
   "outputs": [],
   "source": [
    "#compile the graph\n",
    "graph = builder.compile()"
   ]
  },
  {
   "cell_type": "code",
   "execution_count": 87,
   "id": "e07495c4",
   "metadata": {},
   "outputs": [
    {
     "data": {
      "image/png": "[encoded data removed]",
      "text/plain": [
       "<IPython.core.display.Image object>"
      ]
     },
     "metadata": {},
     "output_type": "display_data"
    }
   ],
   "source": [
    "display(Image(graph.get_graph().draw_mermaid_png()))"
   ]
  },
  {
   "cell_type": "code",
   "execution_count": 88,
   "id": "ab61bc9c",
   "metadata": {},
   "outputs": [],
   "source": [
    "response = graph.invoke({\"messages\": [\"What is the recent AI News?\"]})"
   ]
  },
  {
   "cell_type": "code",
   "execution_count": 89,
   "id": "a76c5216",
   "metadata": {},
   "outputs": [
    {
     "data": {
      "text/plain": [
       "{'messages': [HumanMessage(content='What is the recent AI News?', additional_kwargs={}, response_metadata={}, id='63cdf8e2-6070-4b11-b23f-ab3a796ff89b'),\n",
       "  AIMessage(content='', additional_kwargs={'tool_calls': [{'id': 'ztp8mmvsr', 'function': {'arguments': '{\"query\":\"latest AI news\",\"search_depth\":\"advanced\",\"topic\":\"news\"}', 'name': 'tavily_search'}, 'type': 'function'}]}, response_metadata={'token_usage': {'completion_tokens': 85, 'prompt_tokens': 2188, 'total_tokens': 2273, 'completion_time': 0.144481074, 'prompt_time': 0.244674661, 'queue_time': 0.272365756, 'total_time': 0.389155735}, 'model_name': 'llama3-8b-8192', 'system_fingerprint': 'fp_2717d04279', 'finish_reason': 'tool_calls', 'logprobs': None}, id='run--bf5399de-6a78-440b-976e-502e27077016-0', tool_calls=[{'name': 'tavily_search', 'args': {'query': 'latest AI news', 'search_depth': 'advanced', 'topic': 'news'}, 'id': 'ztp8mmvsr', 'type': 'tool_call'}], usage_metadata={'input_tokens': 2188, 'output_tokens': 85, 'total_tokens': 2273}),\n",
       "  ToolMessage(content='{\"query\": \"latest AI news\", \"follow_up_questions\": null, \"answer\": null, \"images\": [], \"results\": [{\"url\": \"https://www.newsweek.com/nw-ai/ai-impact-awards-2025-science-engineering-2084754\", \"title\": \"AI Impact Awards 2025: The Changing Human Role in Science and Engineering - Newsweek\", \"score\": 0.78788257, \"published_date\": \"Wed, 25 Jun 2025 10:02:01 GMT\", \"content\": \"Newsweek _\\\\\\\\_will continue the conversation on meaningful AI innovations at our AI Impact Summit from June 23 to 25 in Sonoma, California. Click here to follow along on the live blog.\\\\\\\\__\\\\n\\\\nRequest Reprint & LicensingSubmit CorrectionView Editorial Guidelines\\\\n\\\\nSHARE:xfacebooklinkedinredditemailwhatsappCopy & Share\\\\n\\\\n✓ Link copied to clipboard!\\\\n\\\\nThe Latest in AI\\\\n----------------\\\\n\\\\nNEWSWEEK.AI\\\\n\\\\n06.09.25\\\\n\\\\n### Generative AI\\'s Mission to Explore Strange New Worlds [...] ### AI Will Connect Mercedes-Benz Places Residents to the World\\\\n\\\\nThe new Miami condo complex will have state-of-the-art technology.\\\\n\\\\nArtificial Intelligence Miami\\\\n\\\\nNEWS\\\\n\\\\n06.04.25\\\\n\\\\n### Reddit Sues AI Provider for Breach of Contract\\\\n\\\\nThe AI start up Anthropic has allegedly engaged in \\\\\"unlawful and unfair business acts.\\\\\"\\\\n\\\\nReddit AI\\\\n\\\\nTECHNOLOGY\\\\n\\\\n06.02.25\\\\n\\\\n### Could AI Save Small Businesses? Mindbody Makes a Case to Wellness Brands\", \"raw_content\": null}, {\"url\": \"https://www.newsweek.com/nw-ai/ai-impact-summit-2025-photos-day-one-newsweeks-sonoma-tech-event-2089695\", \"title\": \"AI Impact Summit 2025: Photos From Day One of Newsweek\\'s Sonoma Tech Event - Newsweek\", \"score\": 0.7498395, \"published_date\": \"Tue, 24 Jun 2025 04:10:01 GMT\", \"content\": \"Newsweek\\'s AI Impact Summit will continue on Tuesday as additional speakers take the stage to discuss the role of AI in health care, consumer behaviors, filmmaking, urban planning, weather forecasts and more. Check out the full lineup here.\\\\n\\\\n## The Latest in AI\\\\n\\\\n### Generative AI\\'s Mission to Explore Strange New Worlds\\\\n\\\\n### LinkedIn Chief Economic Opportunity Officer Aneesh Raman: Labor Market Upheaval Is Just Beginning\\\\n\\\\n### AI Will Connect Mercedes-Benz Places Residents to the World\", \"raw_content\": null}], \"response_time\": 1.32}', name='tavily_search', id='de39972c-b546-464a-a949-f13f193a29ce', tool_call_id='ztp8mmvsr')]}"
      ]
     },
     "execution_count": 89,
     "metadata": {},
     "output_type": "execute_result"
    }
   ],
   "source": [
    "response"
   ]
  },
  {
   "cell_type": "code",
   "execution_count": 90,
   "id": "d58d7272",
   "metadata": {},
   "outputs": [
    {
     "data": {
      "text/plain": [
       "'{\"query\": \"latest AI news\", \"follow_up_questions\": null, \"answer\": null, \"images\": [], \"results\": [{\"url\": \"https://www.newsweek.com/nw-ai/ai-impact-awards-2025-science-engineering-2084754\", \"title\": \"AI Impact Awards 2025: The Changing Human Role in Science and Engineering - Newsweek\", \"score\": 0.78788257, \"published_date\": \"Wed, 25 Jun 2025 10:02:01 GMT\", \"content\": \"Newsweek _\\\\\\\\_will continue the conversation on meaningful AI innovations at our AI Impact Summit from June 23 to 25 in Sonoma, California. Click here to follow along on the live blog.\\\\\\\\__\\\\n\\\\nRequest Reprint & LicensingSubmit CorrectionView Editorial Guidelines\\\\n\\\\nSHARE:xfacebooklinkedinredditemailwhatsappCopy & Share\\\\n\\\\n✓ Link copied to clipboard!\\\\n\\\\nThe Latest in AI\\\\n----------------\\\\n\\\\nNEWSWEEK.AI\\\\n\\\\n06.09.25\\\\n\\\\n### Generative AI\\'s Mission to Explore Strange New Worlds [...] ### AI Will Connect Mercedes-Benz Places Residents to the World\\\\n\\\\nThe new Miami condo complex will have state-of-the-art technology.\\\\n\\\\nArtificial Intelligence Miami\\\\n\\\\nNEWS\\\\n\\\\n06.04.25\\\\n\\\\n### Reddit Sues AI Provider for Breach of Contract\\\\n\\\\nThe AI start up Anthropic has allegedly engaged in \\\\\"unlawful and unfair business acts.\\\\\"\\\\n\\\\nReddit AI\\\\n\\\\nTECHNOLOGY\\\\n\\\\n06.02.25\\\\n\\\\n### Could AI Save Small Businesses? Mindbody Makes a Case to Wellness Brands\", \"raw_content\": null}, {\"url\": \"https://www.newsweek.com/nw-ai/ai-impact-summit-2025-photos-day-one-newsweeks-sonoma-tech-event-2089695\", \"title\": \"AI Impact Summit 2025: Photos From Day One of Newsweek\\'s Sonoma Tech Event - Newsweek\", \"score\": 0.7498395, \"published_date\": \"Tue, 24 Jun 2025 04:10:01 GMT\", \"content\": \"Newsweek\\'s AI Impact Summit will continue on Tuesday as additional speakers take the stage to discuss the role of AI in health care, consumer behaviors, filmmaking, urban planning, weather forecasts and more. Check out the full lineup here.\\\\n\\\\n## The Latest in AI\\\\n\\\\n### Generative AI\\'s Mission to Explore Strange New Worlds\\\\n\\\\n### LinkedIn Chief Economic Opportunity Officer Aneesh Raman: Labor Market Upheaval Is Just Beginning\\\\n\\\\n### AI Will Connect Mercedes-Benz Places Residents to the World\", \"raw_content\": null}], \"response_time\": 1.32}'"
      ]
     },
     "execution_count": 90,
     "metadata": {},
     "output_type": "execute_result"
    }
   ],
   "source": [
    "response['messages'][-1].content\n",
    "# Get the content of the last message in the response"
   ]
  },
  {
   "cell_type": "code",
   "execution_count": 91,
   "id": "1368720e",
   "metadata": {},
   "outputs": [
    {
     "name": "stdout",
     "output_type": "stream",
     "text": [
      "================================\u001b[1m Human Message \u001b[0m=================================\n",
      "\n",
      "What is the recent AI News?\n",
      "==================================\u001b[1m Ai Message \u001b[0m==================================\n",
      "Tool Calls:\n",
      "  tavily_search (ztp8mmvsr)\n",
      " Call ID: ztp8mmvsr\n",
      "  Args:\n",
      "    query: latest AI news\n",
      "    search_depth: advanced\n",
      "    topic: news\n",
      "=================================\u001b[1m Tool Message \u001b[0m=================================\n",
      "Name: tavily_search\n",
      "\n",
      "{\"query\": \"latest AI news\", \"follow_up_questions\": null, \"answer\": null, \"images\": [], \"results\": [{\"url\": \"https://www.newsweek.com/nw-ai/ai-impact-awards-2025-science-engineering-2084754\", \"title\": \"AI Impact Awards 2025: The Changing Human Role in Science and Engineering - Newsweek\", \"score\": 0.78788257, \"published_date\": \"Wed, 25 Jun 2025 10:02:01 GMT\", \"content\": \"Newsweek _\\\\_will continue the conversation on meaningful AI innovations at our AI Impact Summit from June 23 to 25 in Sonoma, California. Click here to follow along on the live blog.\\\\__\\n\\nRequest Reprint & LicensingSubmit CorrectionView Editorial Guidelines\\n\\nSHARE:xfacebooklinkedinredditemailwhatsappCopy & Share\\n\\n✓ Link copied to clipboard!\\n\\nThe Latest in AI\\n----------------\\n\\nNEWSWEEK.AI\\n\\n06.09.25\\n\\n### Generative AI's Mission to Explore Strange New Worlds [...] ### AI Will Connect Mercedes-Benz Places Residents to the World\\n\\nThe new Miami condo complex will have state-of-the-art technology.\\n\\nArtificial Intelligence Miami\\n\\nNEWS\\n\\n06.04.25\\n\\n### Reddit Sues AI Provider for Breach of Contract\\n\\nThe AI start up Anthropic has allegedly engaged in \\\"unlawful and unfair business acts.\\\"\\n\\nReddit AI\\n\\nTECHNOLOGY\\n\\n06.02.25\\n\\n### Could AI Save Small Businesses? Mindbody Makes a Case to Wellness Brands\", \"raw_content\": null}, {\"url\": \"https://www.newsweek.com/nw-ai/ai-impact-summit-2025-photos-day-one-newsweeks-sonoma-tech-event-2089695\", \"title\": \"AI Impact Summit 2025: Photos From Day One of Newsweek's Sonoma Tech Event - Newsweek\", \"score\": 0.7498395, \"published_date\": \"Tue, 24 Jun 2025 04:10:01 GMT\", \"content\": \"Newsweek's AI Impact Summit will continue on Tuesday as additional speakers take the stage to discuss the role of AI in health care, consumer behaviors, filmmaking, urban planning, weather forecasts and more. Check out the full lineup here.\\n\\n## The Latest in AI\\n\\n### Generative AI's Mission to Explore Strange New Worlds\\n\\n### LinkedIn Chief Economic Opportunity Officer Aneesh Raman: Labor Market Upheaval Is Just Beginning\\n\\n### AI Will Connect Mercedes-Benz Places Residents to the World\", \"raw_content\": null}], \"response_time\": 1.32}\n"
     ]
    }
   ],
   "source": [
    "for message in response['messages']:\n",
    "    message.pretty_print()"
   ]
  },
  {
   "cell_type": "code",
   "execution_count": 92,
   "id": "e2b000cc",
   "metadata": {},
   "outputs": [],
   "source": [
    "response = graph.invoke({\"messages\": [\"What is the 10 multiply by 2?\"]})"
   ]
  },
  {
   "cell_type": "code",
   "execution_count": 93,
   "id": "2b4e3cfd",
   "metadata": {},
   "outputs": [
    {
     "name": "stdout",
     "output_type": "stream",
     "text": [
      "================================\u001b[1m Human Message \u001b[0m=================================\n",
      "\n",
      "What is the 10 multiply by 2?\n",
      "==================================\u001b[1m Ai Message \u001b[0m==================================\n",
      "Tool Calls:\n",
      "  MultiplyXbyY (27vdp4m1v)\n",
      " Call ID: 27vdp4m1v\n",
      "  Args:\n",
      "    x: 10\n",
      "    y: 2\n",
      "=================================\u001b[1m Tool Message \u001b[0m=================================\n",
      "Name: MultiplyXbyY\n",
      "\n",
      "20\n"
     ]
    }
   ],
   "source": [
    "for message in response['messages']:\n",
    "    message.pretty_print()"
   ]
  },
  {
   "cell_type": "code",
   "execution_count": 94,
   "id": "bc6eba4f",
   "metadata": {},
   "outputs": [],
   "source": [
    "response = graph.invoke({\"messages\": [\"What is the recent news about AI and then tell me what is 10 multiply by 5 ?\"]})"
   ]
  },
  {
   "cell_type": "code",
   "execution_count": 95,
   "id": "eee04a1a",
   "metadata": {},
   "outputs": [
    {
     "name": "stdout",
     "output_type": "stream",
     "text": [
      "================================\u001b[1m Human Message \u001b[0m=================================\n",
      "\n",
      "What is the recent news about AI and then tell me what is 10 multiply by 5 ?\n",
      "==================================\u001b[1m Ai Message \u001b[0m==================================\n",
      "Tool Calls:\n",
      "  tavily_search (19vns7qz2)\n",
      " Call ID: 19vns7qz2\n",
      "  Args:\n",
      "    query: recent news about AI\n",
      "    search_depth: advanced\n",
      "    time_range: day\n",
      "  MultiplyXbyY (wvjjych4p)\n",
      " Call ID: wvjjych4p\n",
      "  Args:\n",
      "    x: 10\n",
      "    y: 5\n",
      "=================================\u001b[1m Tool Message \u001b[0m=================================\n",
      "Name: tavily_search\n",
      "\n",
      "{\"query\": \"recent news about AI\", \"follow_up_questions\": null, \"answer\": null, \"images\": [], \"results\": [{\"url\": \"https://www.linkedin.com/pulse/ai-news-funding-updates-from-last-24-hours29th-june-2025-anshuman-jha-ra0wc\", \"title\": \"AI news and funding updates from the last 24 hours(29th June 2025)\", \"content\": \"Alibaba has unveiled its new Qwen VLo AI model, which can generate and modify images from text and visuals with a progressive rendering feature.\", \"score\": 0.7283819, \"raw_content\": null}, {\"url\": \"https://mashable.com/article/biggest-ai-announcements-2025\", \"title\": \"The biggest AI announcements and high drama of 2025 (so far)\", \"content\": \"Many of the copyright lawsuits against AI companies have been filed by journalists and artists. Recently, both Meta and Anthropic won copyright suits against authors. However, this summer, a new and fearsome combatant has entered the AI copyright legal battle: The House of Mouse. Disney has sued AI image generator Midjourney, one of dozens of lawsuits focused on AI and copyright law. The Disney suit calls Midjourney a \\\"bottomless pit of plagiarism.\\\" [...] Recently, the New York Times\\\") reported that Meta CEO Mark Zuckerberg is offering up to $100 million contracts to poach key talent away from OpenAI and other competitors. Per the Times, Zuckerberg is chasing \\\"godlike technology\\\" and super-intelligent AI. The Facebook founder is aware that Meta lags behind its rivals in the AI race, and he's determined to build an AI supergroup.\\n\\n## Disney enters the AI copyright battle [...] We've lived a lifetime of AI news as the industry advances at breakneck pace. To whittle it down, we've focused on the major policies, features, and official announcements from the companies shaping the generative AI era.\\n\\nSo, let's dive into the biggest AI announcements of the year (so far).\\n\\n## The top new models of 2025\\n\\nThe top AI companies are locked in an AI arms race, and we're getting major new models on an almost-monthly basis. New models released in 2025 include:\\n\\nDeepSeek R1\", \"score\": 0.68191797, \"raw_content\": null}], \"response_time\": 12.56}\n",
      "=================================\u001b[1m Tool Message \u001b[0m=================================\n",
      "Name: MultiplyXbyY\n",
      "\n",
      "50\n"
     ]
    }
   ],
   "source": [
    "for message in response['messages']:\n",
    "    message.pretty_print()"
   ]
  },
  {
   "cell_type": "code",
   "execution_count": 96,
   "id": "18b94f7f",
   "metadata": {},
   "outputs": [],
   "source": [
    "response = graph.invoke({\"messages\": [\"What is the capital of France?\"]})"
   ]
  },
  {
   "cell_type": "code",
   "execution_count": 97,
   "id": "30714cfa",
   "metadata": {},
   "outputs": [
    {
     "name": "stdout",
     "output_type": "stream",
     "text": [
      "================================\u001b[1m Human Message \u001b[0m=================================\n",
      "\n",
      "What is the capital of France?\n",
      "==================================\u001b[1m Ai Message \u001b[0m==================================\n",
      "Tool Calls:\n",
      "  tavily_search (6ezf2j8wc)\n",
      " Call ID: 6ezf2j8wc\n",
      "  Args:\n",
      "    query: What is the capital of France?\n",
      "=================================\u001b[1m Tool Message \u001b[0m=================================\n",
      "Name: tavily_search\n",
      "\n",
      "{\"query\": \"What is the capital of France?\", \"follow_up_questions\": null, \"answer\": null, \"images\": [], \"results\": [{\"title\": \"What is the Capital of France? - WorldAtlas\", \"url\": \"https://www.worldatlas.com/articles/what-is-the-capital-of-france.html\", \"content\": \"Paris is the capital city of France. Contrary to popular belief, the name of the city did not come from the Paris in Greek myths. Located in the north of Central France, the city is relatively flat with the highest point being 427 feet (which is Montmartre) above sea level while the lowest point is 115 feet above the sea level. With a GDP of approximately $850 billion, Paris is the country’s leader for economic activities. Tourists are attracted to Paris because of the rich history the city has including its monuments and sights. As the capital city of France, the city plays host to the national government of France. How Many Countries Are There In Africa? [x] Countries  All Countries\", \"score\": 0.9170729, \"raw_content\": null}, {\"title\": \"Paris - Wikipedia\", \"url\": \"https://en.wikipedia.org/wiki/Paris\", \"content\": \"Paris (French pronunciation: [paʁi] ⓘ) is the capital and largest city of France. With an estimated population of 2,048,472 residents in January 2025 [3] in an area of more than 105 km 2 (41 sq mi), [4] Paris is the fourth-most populous city in the European Union and the 30th most densely populated city in the world in 2022. [5] Since the 17th century, Paris has been one of the world's\", \"score\": 0.8896154, \"raw_content\": null}], \"response_time\": 0.95}\n"
     ]
    }
   ],
   "source": [
    "for message in response['messages']:\n",
    "    message.pretty_print()"
   ]
  },
  {
   "cell_type": "markdown",
   "id": "3a97e2e0",
   "metadata": {},
   "source": [
    "## ReACT Agent Architecture"
   ]
  },
  {
   "cell_type": "markdown",
   "id": "56476eb9",
   "metadata": {},
   "source": [
    "1. Action - whenever input comes to LLM, LLM will make a tool call\n",
    "2. Observe - When output comes from Tool Node, LLM observe, whether it should make tool call or go to the end node\n",
    "3. Reason - The LLM analyzes the current task, the history of previous actions and observations, and the overall goal.This is analogous to a human thinking through a problem before acting."
   ]
  },
  {
   "cell_type": "code",
   "execution_count": 98,
   "id": "689f9e75",
   "metadata": {},
   "outputs": [],
   "source": [
    "from langgraph.graph import StateGraph, START, END\n",
    "from langgraph.prebuilt import ToolNode, tools_condition"
   ]
  },
  {
   "cell_type": "code",
   "execution_count": 99,
   "id": "d5fe7cd6",
   "metadata": {},
   "outputs": [],
   "source": [
    "builder = StateGraph(state)\n",
    "builder.add_node(\n",
    "    \"tool_calling_llm\",\n",
    "    tool_calling_llm \n",
    ")\n",
    "builder.add_node(\n",
    "    \"tools\",\n",
    "    ToolNode(tools)\n",
    ")\n",
    "# add the edges to the graph\n",
    "builder.add_edge(START, \"tool_calling_llm\")\n",
    "builder.add_conditional_edges(\"tool_calling_llm\", tools_condition)\n",
    "# if the tool calling LLM returns a tool call, it will go to the tools node\n",
    "builder.add_edge(\"tools\", \"tool_calling_llm\")\n",
    "#LLM will call the tools node again if it returns a tool call\n",
    "graph = builder.compile()"
   ]
  },
  {
   "cell_type": "code",
   "execution_count": 100,
   "id": "c552fd3b",
   "metadata": {},
   "outputs": [
    {
     "data": {
      "image/png": "[encoded data removed]",
      "text/plain": [
       "<IPython.core.display.Image object>"
      ]
     },
     "metadata": {},
     "output_type": "display_data"
    }
   ],
   "source": [
    "display(Image(graph.get_graph().draw_mermaid_png()))"
   ]
  },
  {
   "cell_type": "code",
   "execution_count": 101,
   "id": "aead38ae",
   "metadata": {},
   "outputs": [
    {
     "name": "stdout",
     "output_type": "stream",
     "text": [
      "================================\u001b[1m Human Message \u001b[0m=================================\n",
      "\n",
      "What is the recent AI News and then what is 10 multiply by 5 ?\n",
      "==================================\u001b[1m Ai Message \u001b[0m==================================\n",
      "Tool Calls:\n",
      "  tavily_search (60w023zrd)\n",
      " Call ID: 60w023zrd\n",
      "  Args:\n",
      "    query: recent AI news\n",
      "    search_depth: advanced\n",
      "    topic: news\n",
      "  MultiplyXbyY (yt9ybpksn)\n",
      " Call ID: yt9ybpksn\n",
      "  Args:\n",
      "    x: 10\n",
      "    y: 5\n",
      "=================================\u001b[1m Tool Message \u001b[0m=================================\n",
      "Name: tavily_search\n",
      "\n",
      "{\"query\": \"recent AI news\", \"follow_up_questions\": null, \"answer\": null, \"images\": [], \"results\": [{\"url\": \"https://www.newsweek.com/nw-ai/ai-impact-awards-2025-science-engineering-2084754\", \"title\": \"AI Impact Awards 2025: The Changing Human Role in Science and Engineering - Newsweek\", \"score\": 0.7251239, \"published_date\": \"Wed, 25 Jun 2025 10:02:01 GMT\", \"content\": \"Newsweek _\\\\_will continue the conversation on meaningful AI innovations at our AI Impact Summit from June 23 to 25 in Sonoma, California. Click here to follow along on the live blog.\\\\__\\n\\nRequest Reprint & LicensingSubmit CorrectionView Editorial Guidelines\\n\\nSHARE:xfacebooklinkedinredditemailwhatsappCopy & Share\\n\\n✓ Link copied to clipboard!\\n\\nThe Latest in AI\\n----------------\\n\\nNEWSWEEK.AI\\n\\n06.09.25\\n\\n### Generative AI's Mission to Explore Strange New Worlds [...] ### AI Will Connect Mercedes-Benz Places Residents to the World\\n\\nThe new Miami condo complex will have state-of-the-art technology.\\n\\nArtificial Intelligence Miami\\n\\nNEWS\\n\\n06.04.25\\n\\n### Reddit Sues AI Provider for Breach of Contract\\n\\nThe AI start up Anthropic has allegedly engaged in \\\"unlawful and unfair business acts.\\\"\\n\\nReddit AI\\n\\nTECHNOLOGY\\n\\n06.02.25\\n\\n### Could AI Save Small Businesses? Mindbody Makes a Case to Wellness Brands\", \"raw_content\": null}, {\"url\": \"https://www.biotechniques.com/computational-biology/slaseurope2025_evolving-ai-the-age-of-small-data-llms-and-privacy-preserving-computations/\", \"title\": \"Evolving AI: the age of small data, LLMs and privacy-preserving computations - BioTechniques\", \"score\": 0.68748367, \"published_date\": \"Tue, 24 Jun 2025 11:16:54 GMT\", \"content\": \"#### Filtering out unreliable COVID-19 research\\n\\nImage 7\\n\\n15 JUL 2022LAB DESIGN AND MACHINERY\\n\\n#### Automating ultrasound scanning\\n\\nImage 8\\n\\n7 SEP 2018CANCER RESEARCH\\n\\n#### Artificial intelligence turns its attention to cancer\\n\\nImage 9\\n\\n23 DEC 2019LAB DESIGN AND MACHINERY\\n\\n#### Anne Carpenter on artificial intelligence in the cell imaging field\\n\\nImage 10: AI automation aiforia\\n\\n1 JUL 2020NEWS\\n\\n#### AI is here to supercharge pathologists, not replace them\\n\\nImage 11\", \"raw_content\": null}], \"response_time\": 1.51}\n",
      "=================================\u001b[1m Tool Message \u001b[0m=================================\n",
      "Name: MultiplyXbyY\n",
      "\n",
      "50\n",
      "==================================\u001b[1m Ai Message \u001b[0m==================================\n",
      "\n",
      "<tool-use>{\"tool_calls\":[]}</tool-use>\n"
     ]
    }
   ],
   "source": [
    "response = graph.invoke({\"messages\": [\"What is the recent AI News and then what is 10 multiply by 5 ?\"]})\n",
    "for message in response['messages']:\n",
    "    message.pretty_print()"
   ]
  },
  {
   "cell_type": "markdown",
   "id": "02c68ff5",
   "metadata": {},
   "source": [
    "## Adding Memory to the Agentic Graph"
   ]
  },
  {
   "cell_type": "code",
   "execution_count": 102,
   "id": "c2a4d1b6",
   "metadata": {},
   "outputs": [
    {
     "name": "stdout",
     "output_type": "stream",
     "text": [
      "================================\u001b[1m Human Message \u001b[0m=================================\n",
      "\n",
      "my name is Rohit\n",
      "==================================\u001b[1m Ai Message \u001b[0m==================================\n",
      "\n",
      "Nice to meet you, Rohit! How can I assist you today?\n"
     ]
    }
   ],
   "source": [
    "response = graph.invoke({\"messages\": [\"my name is Rohit\"]})\n",
    "for message in response['messages']:\n",
    "    message.pretty_print()"
   ]
  },
  {
   "cell_type": "code",
   "execution_count": 103,
   "id": "5da29b44",
   "metadata": {},
   "outputs": [],
   "source": [
    "response = graph.invoke({\"messages\": [\"What is my name?\"]})"
   ]
  },
  {
   "cell_type": "code",
   "execution_count": 104,
   "id": "5726f6d1",
   "metadata": {},
   "outputs": [
    {
     "name": "stdout",
     "output_type": "stream",
     "text": [
      "================================\u001b[1m Human Message \u001b[0m=================================\n",
      "\n",
      "What is my name?\n",
      "==================================\u001b[1m Ai Message \u001b[0m==================================\n",
      "\n",
      "I'm not able to determine your name because I'm a large language model, I don't have any information about you or your personal details. I'm here to assist you with any questions or topics you'd like to discuss, but I don't have the ability to access or share personal information. Is there anything else I can help you with?\n"
     ]
    }
   ],
   "source": [
    "for message in response['messages']:\n",
    "    message.pretty_print()"
   ]
  },
  {
   "cell_type": "code",
   "execution_count": 105,
   "id": "832fba1f",
   "metadata": {},
   "outputs": [],
   "source": [
    "from langgraph.graph import StateGraph, START, END\n",
    "from langgraph.prebuilt import ToolNode, tools_condition\n",
    "from langgraph.checkpoint.memory import MemorySaver"
   ]
  },
  {
   "cell_type": "code",
   "execution_count": 106,
   "id": "8098cf13",
   "metadata": {},
   "outputs": [],
   "source": [
    "memory = MemorySaver()\n",
    "builder = StateGraph(state)\n",
    "builder.add_node(\n",
    "    \"tool_calling_llm\",\n",
    "    tool_calling_llm \n",
    ")\n",
    "builder.add_node(\n",
    "    \"tools\",\n",
    "    ToolNode(tools)\n",
    ")\n",
    "# add the edges to the graph\n",
    "builder.add_edge(START, \"tool_calling_llm\")\n",
    "builder.add_conditional_edges(\"tool_calling_llm\", tools_condition)\n",
    "# if the tool calling LLM returns a tool call, it will go to the tools node\n",
    "# if the LLM does not return a tool call, it will go to the END state\n",
    "builder.add_edge(\"tools\", \"tool_calling_llm\")\n",
    "\n",
    "#compile the graph with memory\n",
    "graph = builder.compile(checkpointer=memory)"
   ]
  },
  {
   "cell_type": "code",
   "execution_count": 107,
   "id": "fdb68429",
   "metadata": {},
   "outputs": [
    {
     "data": {
      "image/png": "[encoded data removed]",
      "text/plain": [
       "<IPython.core.display.Image object>"
      ]
     },
     "metadata": {},
     "output_type": "display_data"
    }
   ],
   "source": [
    "display(Image(graph.get_graph().draw_mermaid_png()))"
   ]
  },
  {
   "cell_type": "markdown",
   "id": "7893620a",
   "metadata": {},
   "source": [
    "Adding Memory -\n",
    "To persist the agent’s state, we use LangGraph’s MemorySaver, a built-in checkpointer. This checkpointer stores states in memory and associates them with a thread_id."
   ]
  },
  {
   "cell_type": "code",
   "execution_count": 108,
   "id": "24658581",
   "metadata": {},
   "outputs": [],
   "source": [
    "config = {\"configurable\":{\"thread_id\": \"1\"}}"
   ]
  },
  {
   "cell_type": "code",
   "execution_count": 109,
   "id": "b218e673",
   "metadata": {},
   "outputs": [],
   "source": [
    "response = graph.invoke({\"messages\": [\"Hi,My Name is Rohit\"]}, config=config)"
   ]
  },
  {
   "cell_type": "code",
   "execution_count": 110,
   "id": "ffa84acd",
   "metadata": {},
   "outputs": [
    {
     "name": "stdout",
     "output_type": "stream",
     "text": [
      "================================\u001b[1m Human Message \u001b[0m=================================\n",
      "\n",
      "Hi,My Name is Rohit\n",
      "==================================\u001b[1m Ai Message \u001b[0m==================================\n",
      "\n",
      "Nice to meet you, Rohit!\n"
     ]
    }
   ],
   "source": [
    "for message in response['messages']:\n",
    "    message.pretty_print()"
   ]
  },
  {
   "cell_type": "code",
   "execution_count": 111,
   "id": "31509d81",
   "metadata": {},
   "outputs": [
    {
     "name": "stdout",
     "output_type": "stream",
     "text": [
      "================================\u001b[1m Human Message \u001b[0m=================================\n",
      "\n",
      "Hi,My Name is Rohit\n",
      "==================================\u001b[1m Ai Message \u001b[0m==================================\n",
      "\n",
      "Nice to meet you, Rohit!\n",
      "================================\u001b[1m Human Message \u001b[0m=================================\n",
      "\n",
      "What is my name?\n",
      "==================================\u001b[1m Ai Message \u001b[0m==================================\n",
      "\n",
      "Your name is Rohit!\n"
     ]
    }
   ],
   "source": [
    "response = graph.invoke({\"messages\": [\"What is my name?\"]}, config=config)\n",
    "for message in response['messages']:\n",
    "    message.pretty_print()"
   ]
  },
  {
   "cell_type": "code",
   "execution_count": 112,
   "id": "ef9713ae",
   "metadata": {},
   "outputs": [
    {
     "data": {
      "text/plain": [
       "'Your name is Rohit!'"
      ]
     },
     "execution_count": 112,
     "metadata": {},
     "output_type": "execute_result"
    }
   ],
   "source": [
    "response['messages'][-1].content"
   ]
  },
  {
   "cell_type": "code",
   "execution_count": null,
   "id": "7d17ac8e",
   "metadata": {},
   "outputs": [],
   "source": []
  }
 ],
 "metadata": {
  "kernelspec": {
   "display_name": "agentic_ai",
   "language": "python",
   "name": "python3"
  },
  "language_info": {
   "codemirror_mode": {
    "name": "ipython",
    "version": 3
   },
   "file_extension": ".py",
   "mimetype": "text/x-python",
   "name": "python",
   "nbconvert_exporter": "python",
   "pygments_lexer": "ipython3",
   "version": "3.9.12"
  }
 },
 "nbformat": 4,
 "nbformat_minor": 5
}
